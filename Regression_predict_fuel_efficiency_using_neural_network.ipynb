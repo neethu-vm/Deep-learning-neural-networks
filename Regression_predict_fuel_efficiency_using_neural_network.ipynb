{
  "nbformat": 4,
  "nbformat_minor": 0,
  "metadata": {
    "colab": {
      "name": " Regression: predict fuel efficiency using neural network.ipynb",
      "provenance": [],
      "collapsed_sections": [],
      "include_colab_link": true
    },
    "kernelspec": {
      "name": "python3",
      "display_name": "Python 3"
    },
    "accelerator": "GPU"
  },
  "cells": [
    {
      "cell_type": "markdown",
      "metadata": {
        "id": "view-in-github",
        "colab_type": "text"
      },
      "source": [
        "<a href=\"https://colab.research.google.com/github/neethu-vm/Deep-learning-neural-networks/blob/main/Regression_predict_fuel_efficiency_using_neural_network.ipynb\" target=\"_parent\"><img src=\"https://colab.research.google.com/assets/colab-badge.svg\" alt=\"Open In Colab\"/></a>"
      ]
    },
    {
      "cell_type": "code",
      "metadata": {
        "id": "Cp0uq2VdT72K",
        "colab": {
          "base_uri": "https://localhost:8080/",
          "height": 663
        },
        "outputId": "9cc7d751-ffca-48d3-eeb7-495575f8319f"
      },
      "source": [
        "# Use seaborn for pairplot\n",
        "!pip install seaborn\n",
        "\n",
        "# Use some functions from tensorflow_docs\n",
        "!pip install git+https://github.com/tensorflow/docs"
      ],
      "execution_count": null,
      "outputs": [
        {
          "output_type": "stream",
          "text": [
            "Requirement already satisfied: seaborn in /usr/local/lib/python3.7/dist-packages (0.11.1)\n",
            "Requirement already satisfied: numpy>=1.15 in /usr/local/lib/python3.7/dist-packages (from seaborn) (1.19.5)\n",
            "Requirement already satisfied: pandas>=0.23 in /usr/local/lib/python3.7/dist-packages (from seaborn) (1.1.5)\n",
            "Requirement already satisfied: matplotlib>=2.2 in /usr/local/lib/python3.7/dist-packages (from seaborn) (3.2.2)\n",
            "Requirement already satisfied: scipy>=1.0 in /usr/local/lib/python3.7/dist-packages (from seaborn) (1.4.1)\n",
            "Requirement already satisfied: pytz>=2017.2 in /usr/local/lib/python3.7/dist-packages (from pandas>=0.23->seaborn) (2018.9)\n",
            "Requirement already satisfied: python-dateutil>=2.7.3 in /usr/local/lib/python3.7/dist-packages (from pandas>=0.23->seaborn) (2.8.1)\n",
            "Requirement already satisfied: kiwisolver>=1.0.1 in /usr/local/lib/python3.7/dist-packages (from matplotlib>=2.2->seaborn) (1.3.1)\n",
            "Requirement already satisfied: pyparsing!=2.0.4,!=2.1.2,!=2.1.6,>=2.0.1 in /usr/local/lib/python3.7/dist-packages (from matplotlib>=2.2->seaborn) (2.4.7)\n",
            "Requirement already satisfied: cycler>=0.10 in /usr/local/lib/python3.7/dist-packages (from matplotlib>=2.2->seaborn) (0.10.0)\n",
            "Requirement already satisfied: six>=1.5 in /usr/local/lib/python3.7/dist-packages (from python-dateutil>=2.7.3->pandas>=0.23->seaborn) (1.15.0)\n",
            "Collecting git+https://github.com/tensorflow/docs\n",
            "  Cloning https://github.com/tensorflow/docs to /tmp/pip-req-build-3sh2tdu7\n",
            "  Running command git clone -q https://github.com/tensorflow/docs /tmp/pip-req-build-3sh2tdu7\n",
            "Requirement already satisfied: astor in /usr/local/lib/python3.7/dist-packages (from tensorflow-docs===0.0.03e08f1e1739dede8d9f6f283b4353bf330ca0506-) (0.8.1)\n",
            "Requirement already satisfied: absl-py in /usr/local/lib/python3.7/dist-packages (from tensorflow-docs===0.0.03e08f1e1739dede8d9f6f283b4353bf330ca0506-) (0.12.0)\n",
            "Collecting protobuf>=3.14\n",
            "\u001b[?25l  Downloading https://files.pythonhosted.org/packages/4c/53/ddcef00219f2a3c863b24288e24a20c3070bd086a1e77706f22994a7f6db/protobuf-3.17.3-cp37-cp37m-manylinux_2_5_x86_64.manylinux1_x86_64.whl (1.0MB)\n",
            "\u001b[K     |████████████████████████████████| 1.0MB 8.3MB/s \n",
            "\u001b[?25hRequirement already satisfied: pyyaml in /usr/local/lib/python3.7/dist-packages (from tensorflow-docs===0.0.03e08f1e1739dede8d9f6f283b4353bf330ca0506-) (3.13)\n",
            "Requirement already satisfied: six in /usr/local/lib/python3.7/dist-packages (from absl-py->tensorflow-docs===0.0.03e08f1e1739dede8d9f6f283b4353bf330ca0506-) (1.15.0)\n",
            "Building wheels for collected packages: tensorflow-docs\n",
            "  Building wheel for tensorflow-docs (setup.py) ... \u001b[?25l\u001b[?25hdone\n",
            "  Created wheel for tensorflow-docs: filename=tensorflow_docs-0.0.03e08f1e1739dede8d9f6f283b4353bf330ca0506_-cp37-none-any.whl size=153572 sha256=ada73bc71eafe892bcdbf033332a9185632450b19fd96b203a95e27494e2ce71\n",
            "  Stored in directory: /tmp/pip-ephem-wheel-cache-nl2vexih/wheels/eb/1b/35/fce87697be00d2fc63e0b4b395b0d9c7e391a10e98d9a0d97f\n",
            "Successfully built tensorflow-docs\n",
            "Installing collected packages: protobuf, tensorflow-docs\n",
            "  Found existing installation: protobuf 3.12.4\n",
            "    Uninstalling protobuf-3.12.4:\n",
            "      Successfully uninstalled protobuf-3.12.4\n",
            "Successfully installed protobuf-3.17.3 tensorflow-docs-0.0.03e08f1e1739dede8d9f6f283b4353bf330ca0506-\n"
          ],
          "name": "stdout"
        },
        {
          "output_type": "display_data",
          "data": {
            "application/vnd.colab-display-data+json": {
              "pip_warning": {
                "packages": [
                  "google"
                ]
              }
            }
          },
          "metadata": {
            "tags": []
          }
        }
      ]
    },
    {
      "cell_type": "code",
      "metadata": {
        "id": "xRAj2mmLT25i"
      },
      "source": [
        "import pathlib\n",
        "\n",
        "import matplotlib.pyplot as plt\n",
        "import numpy as np\n",
        "import pandas as pd\n",
        "import seaborn as sns"
      ],
      "execution_count": null,
      "outputs": []
    },
    {
      "cell_type": "code",
      "metadata": {
        "id": "kPuEUHI9Tnn3",
        "colab": {
          "base_uri": "https://localhost:8080/"
        },
        "outputId": "22fc0c0f-db2d-4f43-9348-08081948312b"
      },
      "source": [
        "import tensorflow as tf\n",
        "\n",
        "from tensorflow import keras\n",
        "from tensorflow.keras import layers\n",
        "\n",
        "print(tf.__version__)"
      ],
      "execution_count": null,
      "outputs": [
        {
          "output_type": "stream",
          "text": [
            "2.5.0\n"
          ],
          "name": "stdout"
        }
      ]
    },
    {
      "cell_type": "code",
      "metadata": {
        "id": "Ng2CalaaTpL1"
      },
      "source": [
        "import tensorflow_docs as tfdocs\n",
        "import tensorflow_docs.plots\n",
        "import tensorflow_docs.modeling"
      ],
      "execution_count": null,
      "outputs": []
    },
    {
      "cell_type": "code",
      "metadata": {
        "id": "yMyg1mtdTrUT",
        "colab": {
          "base_uri": "https://localhost:8080/",
          "height": 70
        },
        "outputId": "08820648-45be-4cb7-c0ed-04e11a7f1d75"
      },
      "source": [
        "dataset_path = keras.utils.get_file(\"auto-mpg.data\", \"http://archive.ics.uci.edu/ml/machine-learning-databases/auto-mpg/auto-mpg.data\")\n",
        "dataset_path"
      ],
      "execution_count": null,
      "outputs": [
        {
          "output_type": "stream",
          "text": [
            "Downloading data from http://archive.ics.uci.edu/ml/machine-learning-databases/auto-mpg/auto-mpg.data\n",
            "32768/30286 [================================] - 0s 0us/step\n"
          ],
          "name": "stdout"
        },
        {
          "output_type": "execute_result",
          "data": {
            "application/vnd.google.colaboratory.intrinsic+json": {
              "type": "string"
            },
            "text/plain": [
              "'/root/.keras/datasets/auto-mpg.data'"
            ]
          },
          "metadata": {
            "tags": []
          },
          "execution_count": 5
        }
      ]
    },
    {
      "cell_type": "code",
      "metadata": {
        "id": "rsnvp8dkUGEh",
        "colab": {
          "base_uri": "https://localhost:8080/",
          "height": 206
        },
        "outputId": "9265dc9a-9124-4fc2-e964-a6b2fd19eef7"
      },
      "source": [
        "column_names = ['MPG','Cylinders','Displacement','Horsepower','Weight',\n",
        "                'Acceleration', 'Model Year', 'Origin']\n",
        "dataset = pd.read_csv(dataset_path, names=column_names,\n",
        "                      na_values = \"?\", comment='\\t',\n",
        "                      sep=\" \", skipinitialspace=True)\n",
        "\n",
        "dataset.tail()"
      ],
      "execution_count": null,
      "outputs": [
        {
          "output_type": "execute_result",
          "data": {
            "text/html": [
              "<div>\n",
              "<style scoped>\n",
              "    .dataframe tbody tr th:only-of-type {\n",
              "        vertical-align: middle;\n",
              "    }\n",
              "\n",
              "    .dataframe tbody tr th {\n",
              "        vertical-align: top;\n",
              "    }\n",
              "\n",
              "    .dataframe thead th {\n",
              "        text-align: right;\n",
              "    }\n",
              "</style>\n",
              "<table border=\"1\" class=\"dataframe\">\n",
              "  <thead>\n",
              "    <tr style=\"text-align: right;\">\n",
              "      <th></th>\n",
              "      <th>MPG</th>\n",
              "      <th>Cylinders</th>\n",
              "      <th>Displacement</th>\n",
              "      <th>Horsepower</th>\n",
              "      <th>Weight</th>\n",
              "      <th>Acceleration</th>\n",
              "      <th>Model Year</th>\n",
              "      <th>Origin</th>\n",
              "    </tr>\n",
              "  </thead>\n",
              "  <tbody>\n",
              "    <tr>\n",
              "      <th>393</th>\n",
              "      <td>27.0</td>\n",
              "      <td>4</td>\n",
              "      <td>140.0</td>\n",
              "      <td>86.0</td>\n",
              "      <td>2790.0</td>\n",
              "      <td>15.6</td>\n",
              "      <td>82</td>\n",
              "      <td>1</td>\n",
              "    </tr>\n",
              "    <tr>\n",
              "      <th>394</th>\n",
              "      <td>44.0</td>\n",
              "      <td>4</td>\n",
              "      <td>97.0</td>\n",
              "      <td>52.0</td>\n",
              "      <td>2130.0</td>\n",
              "      <td>24.6</td>\n",
              "      <td>82</td>\n",
              "      <td>2</td>\n",
              "    </tr>\n",
              "    <tr>\n",
              "      <th>395</th>\n",
              "      <td>32.0</td>\n",
              "      <td>4</td>\n",
              "      <td>135.0</td>\n",
              "      <td>84.0</td>\n",
              "      <td>2295.0</td>\n",
              "      <td>11.6</td>\n",
              "      <td>82</td>\n",
              "      <td>1</td>\n",
              "    </tr>\n",
              "    <tr>\n",
              "      <th>396</th>\n",
              "      <td>28.0</td>\n",
              "      <td>4</td>\n",
              "      <td>120.0</td>\n",
              "      <td>79.0</td>\n",
              "      <td>2625.0</td>\n",
              "      <td>18.6</td>\n",
              "      <td>82</td>\n",
              "      <td>1</td>\n",
              "    </tr>\n",
              "    <tr>\n",
              "      <th>397</th>\n",
              "      <td>31.0</td>\n",
              "      <td>4</td>\n",
              "      <td>119.0</td>\n",
              "      <td>82.0</td>\n",
              "      <td>2720.0</td>\n",
              "      <td>19.4</td>\n",
              "      <td>82</td>\n",
              "      <td>1</td>\n",
              "    </tr>\n",
              "  </tbody>\n",
              "</table>\n",
              "</div>"
            ],
            "text/plain": [
              "      MPG  Cylinders  Displacement  ...  Acceleration  Model Year  Origin\n",
              "393  27.0          4         140.0  ...          15.6          82       1\n",
              "394  44.0          4          97.0  ...          24.6          82       2\n",
              "395  32.0          4         135.0  ...          11.6          82       1\n",
              "396  28.0          4         120.0  ...          18.6          82       1\n",
              "397  31.0          4         119.0  ...          19.4          82       1\n",
              "\n",
              "[5 rows x 8 columns]"
            ]
          },
          "metadata": {
            "tags": []
          },
          "execution_count": 6
        }
      ]
    },
    {
      "cell_type": "code",
      "metadata": {
        "id": "zVPozUxdUH1K",
        "colab": {
          "base_uri": "https://localhost:8080/"
        },
        "outputId": "d7ca7bde-6b30-4214-cae4-96594667dabb"
      },
      "source": [
        "dataset.isna().sum()"
      ],
      "execution_count": null,
      "outputs": [
        {
          "output_type": "execute_result",
          "data": {
            "text/plain": [
              "MPG             0\n",
              "Cylinders       0\n",
              "Displacement    0\n",
              "Horsepower      6\n",
              "Weight          0\n",
              "Acceleration    0\n",
              "Model Year      0\n",
              "Origin          0\n",
              "dtype: int64"
            ]
          },
          "metadata": {
            "tags": []
          },
          "execution_count": 38
        }
      ]
    },
    {
      "cell_type": "code",
      "metadata": {
        "id": "qhPk-LgpUJbO"
      },
      "source": [
        "dataset = dataset.dropna()"
      ],
      "execution_count": null,
      "outputs": []
    },
    {
      "cell_type": "code",
      "metadata": {
        "id": "IDQN82DxUK_-"
      },
      "source": [
        "\n",
        "dataset['Origin'] = dataset['Origin'].map({1: 'USA', 2: 'Europe', 3: 'Japan'})"
      ],
      "execution_count": null,
      "outputs": []
    },
    {
      "cell_type": "code",
      "metadata": {
        "id": "4-KYhV_hUMw5",
        "colab": {
          "base_uri": "https://localhost:8080/",
          "height": 206
        },
        "outputId": "9bdddbfb-e55a-472f-99f0-6eba6cc7d93b"
      },
      "source": [
        "\n",
        "dataset = pd.get_dummies(dataset, prefix='', prefix_sep='')\n",
        "dataset.tail()"
      ],
      "execution_count": null,
      "outputs": [
        {
          "output_type": "execute_result",
          "data": {
            "text/html": [
              "<div>\n",
              "<style scoped>\n",
              "    .dataframe tbody tr th:only-of-type {\n",
              "        vertical-align: middle;\n",
              "    }\n",
              "\n",
              "    .dataframe tbody tr th {\n",
              "        vertical-align: top;\n",
              "    }\n",
              "\n",
              "    .dataframe thead th {\n",
              "        text-align: right;\n",
              "    }\n",
              "</style>\n",
              "<table border=\"1\" class=\"dataframe\">\n",
              "  <thead>\n",
              "    <tr style=\"text-align: right;\">\n",
              "      <th></th>\n",
              "      <th>MPG</th>\n",
              "      <th>Cylinders</th>\n",
              "      <th>Displacement</th>\n",
              "      <th>Horsepower</th>\n",
              "      <th>Weight</th>\n",
              "      <th>Acceleration</th>\n",
              "      <th>Model Year</th>\n",
              "      <th>Europe</th>\n",
              "      <th>Japan</th>\n",
              "      <th>USA</th>\n",
              "    </tr>\n",
              "  </thead>\n",
              "  <tbody>\n",
              "    <tr>\n",
              "      <th>393</th>\n",
              "      <td>27.0</td>\n",
              "      <td>4</td>\n",
              "      <td>140.0</td>\n",
              "      <td>86.0</td>\n",
              "      <td>2790.0</td>\n",
              "      <td>15.6</td>\n",
              "      <td>82</td>\n",
              "      <td>0</td>\n",
              "      <td>0</td>\n",
              "      <td>1</td>\n",
              "    </tr>\n",
              "    <tr>\n",
              "      <th>394</th>\n",
              "      <td>44.0</td>\n",
              "      <td>4</td>\n",
              "      <td>97.0</td>\n",
              "      <td>52.0</td>\n",
              "      <td>2130.0</td>\n",
              "      <td>24.6</td>\n",
              "      <td>82</td>\n",
              "      <td>1</td>\n",
              "      <td>0</td>\n",
              "      <td>0</td>\n",
              "    </tr>\n",
              "    <tr>\n",
              "      <th>395</th>\n",
              "      <td>32.0</td>\n",
              "      <td>4</td>\n",
              "      <td>135.0</td>\n",
              "      <td>84.0</td>\n",
              "      <td>2295.0</td>\n",
              "      <td>11.6</td>\n",
              "      <td>82</td>\n",
              "      <td>0</td>\n",
              "      <td>0</td>\n",
              "      <td>1</td>\n",
              "    </tr>\n",
              "    <tr>\n",
              "      <th>396</th>\n",
              "      <td>28.0</td>\n",
              "      <td>4</td>\n",
              "      <td>120.0</td>\n",
              "      <td>79.0</td>\n",
              "      <td>2625.0</td>\n",
              "      <td>18.6</td>\n",
              "      <td>82</td>\n",
              "      <td>0</td>\n",
              "      <td>0</td>\n",
              "      <td>1</td>\n",
              "    </tr>\n",
              "    <tr>\n",
              "      <th>397</th>\n",
              "      <td>31.0</td>\n",
              "      <td>4</td>\n",
              "      <td>119.0</td>\n",
              "      <td>82.0</td>\n",
              "      <td>2720.0</td>\n",
              "      <td>19.4</td>\n",
              "      <td>82</td>\n",
              "      <td>0</td>\n",
              "      <td>0</td>\n",
              "      <td>1</td>\n",
              "    </tr>\n",
              "  </tbody>\n",
              "</table>\n",
              "</div>"
            ],
            "text/plain": [
              "      MPG  Cylinders  Displacement  Horsepower  ...  Model Year  Europe  Japan  USA\n",
              "393  27.0          4         140.0        86.0  ...          82       0      0    1\n",
              "394  44.0          4          97.0        52.0  ...          82       1      0    0\n",
              "395  32.0          4         135.0        84.0  ...          82       0      0    1\n",
              "396  28.0          4         120.0        79.0  ...          82       0      0    1\n",
              "397  31.0          4         119.0        82.0  ...          82       0      0    1\n",
              "\n",
              "[5 rows x 10 columns]"
            ]
          },
          "metadata": {
            "tags": []
          },
          "execution_count": 9
        }
      ]
    },
    {
      "cell_type": "code",
      "metadata": {
        "id": "XjaLK9RFUN9d"
      },
      "source": [
        "train_dataset = dataset.sample(frac=0.8,random_state=0)\n",
        "test_dataset = dataset.drop(train_dataset.index)"
      ],
      "execution_count": null,
      "outputs": []
    },
    {
      "cell_type": "code",
      "metadata": {
        "id": "XuX_OYVTUPq2",
        "colab": {
          "base_uri": "https://localhost:8080/",
          "height": 743
        },
        "outputId": "f6453b2d-78d1-4323-fd38-15179cf52873"
      },
      "source": [
        "sns.pairplot(train_dataset[[\"MPG\", \"Cylinders\", \"Displacement\", \"Weight\"]], diag_kind=\"kde\")"
      ],
      "execution_count": null,
      "outputs": [
        {
          "output_type": "execute_result",
          "data": {
            "text/plain": [
              "<seaborn.axisgrid.PairGrid at 0x7fdb5e218f10>"
            ]
          },
          "metadata": {
            "tags": []
          },
          "execution_count": 43
        },
        {
          "output_type": "display_data",
          "data": {
            "image/png": "[encoded data removed]",
            "text/plain": [
              "<Figure size 720x720 with 20 Axes>"
            ]
          },
          "metadata": {
            "tags": [],
            "needs_background": "light"
          }
        }
      ]
    },
    {
      "cell_type": "code",
      "metadata": {
        "id": "kTWdu5-OURfZ",
        "colab": {
          "base_uri": "https://localhost:8080/",
          "height": 332
        },
        "outputId": "9145db9a-d618-4c56-f87c-3b66434ed71a"
      },
      "source": [
        "train_stats = train_dataset.describe()\n",
        "train_stats.pop(\"MPG\")\n",
        "train_stats = train_stats.transpose()\n",
        "train_stats"
      ],
      "execution_count": null,
      "outputs": [
        {
          "output_type": "execute_result",
          "data": {
            "text/html": [
              "<div>\n",
              "<style scoped>\n",
              "    .dataframe tbody tr th:only-of-type {\n",
              "        vertical-align: middle;\n",
              "    }\n",
              "\n",
              "    .dataframe tbody tr th {\n",
              "        vertical-align: top;\n",
              "    }\n",
              "\n",
              "    .dataframe thead th {\n",
              "        text-align: right;\n",
              "    }\n",
              "</style>\n",
              "<table border=\"1\" class=\"dataframe\">\n",
              "  <thead>\n",
              "    <tr style=\"text-align: right;\">\n",
              "      <th></th>\n",
              "      <th>count</th>\n",
              "      <th>mean</th>\n",
              "      <th>std</th>\n",
              "      <th>min</th>\n",
              "      <th>25%</th>\n",
              "      <th>50%</th>\n",
              "      <th>75%</th>\n",
              "      <th>max</th>\n",
              "    </tr>\n",
              "  </thead>\n",
              "  <tbody>\n",
              "    <tr>\n",
              "      <th>Cylinders</th>\n",
              "      <td>314.0</td>\n",
              "      <td>5.477707</td>\n",
              "      <td>1.699788</td>\n",
              "      <td>3.0</td>\n",
              "      <td>4.00</td>\n",
              "      <td>4.0</td>\n",
              "      <td>8.00</td>\n",
              "      <td>8.0</td>\n",
              "    </tr>\n",
              "    <tr>\n",
              "      <th>Displacement</th>\n",
              "      <td>314.0</td>\n",
              "      <td>195.318471</td>\n",
              "      <td>104.331589</td>\n",
              "      <td>68.0</td>\n",
              "      <td>105.50</td>\n",
              "      <td>151.0</td>\n",
              "      <td>265.75</td>\n",
              "      <td>455.0</td>\n",
              "    </tr>\n",
              "    <tr>\n",
              "      <th>Horsepower</th>\n",
              "      <td>314.0</td>\n",
              "      <td>104.869427</td>\n",
              "      <td>38.096214</td>\n",
              "      <td>46.0</td>\n",
              "      <td>76.25</td>\n",
              "      <td>94.5</td>\n",
              "      <td>128.00</td>\n",
              "      <td>225.0</td>\n",
              "    </tr>\n",
              "    <tr>\n",
              "      <th>Weight</th>\n",
              "      <td>314.0</td>\n",
              "      <td>2990.251592</td>\n",
              "      <td>843.898596</td>\n",
              "      <td>1649.0</td>\n",
              "      <td>2256.50</td>\n",
              "      <td>2822.5</td>\n",
              "      <td>3608.00</td>\n",
              "      <td>5140.0</td>\n",
              "    </tr>\n",
              "    <tr>\n",
              "      <th>Acceleration</th>\n",
              "      <td>314.0</td>\n",
              "      <td>15.559236</td>\n",
              "      <td>2.789230</td>\n",
              "      <td>8.0</td>\n",
              "      <td>13.80</td>\n",
              "      <td>15.5</td>\n",
              "      <td>17.20</td>\n",
              "      <td>24.8</td>\n",
              "    </tr>\n",
              "    <tr>\n",
              "      <th>Model Year</th>\n",
              "      <td>314.0</td>\n",
              "      <td>75.898089</td>\n",
              "      <td>3.675642</td>\n",
              "      <td>70.0</td>\n",
              "      <td>73.00</td>\n",
              "      <td>76.0</td>\n",
              "      <td>79.00</td>\n",
              "      <td>82.0</td>\n",
              "    </tr>\n",
              "    <tr>\n",
              "      <th>Europe</th>\n",
              "      <td>314.0</td>\n",
              "      <td>0.178344</td>\n",
              "      <td>0.383413</td>\n",
              "      <td>0.0</td>\n",
              "      <td>0.00</td>\n",
              "      <td>0.0</td>\n",
              "      <td>0.00</td>\n",
              "      <td>1.0</td>\n",
              "    </tr>\n",
              "    <tr>\n",
              "      <th>Japan</th>\n",
              "      <td>314.0</td>\n",
              "      <td>0.197452</td>\n",
              "      <td>0.398712</td>\n",
              "      <td>0.0</td>\n",
              "      <td>0.00</td>\n",
              "      <td>0.0</td>\n",
              "      <td>0.00</td>\n",
              "      <td>1.0</td>\n",
              "    </tr>\n",
              "    <tr>\n",
              "      <th>USA</th>\n",
              "      <td>314.0</td>\n",
              "      <td>0.624204</td>\n",
              "      <td>0.485101</td>\n",
              "      <td>0.0</td>\n",
              "      <td>0.00</td>\n",
              "      <td>1.0</td>\n",
              "      <td>1.00</td>\n",
              "      <td>1.0</td>\n",
              "    </tr>\n",
              "  </tbody>\n",
              "</table>\n",
              "</div>"
            ],
            "text/plain": [
              "              count         mean         std  ...     50%      75%     max\n",
              "Cylinders     314.0     5.477707    1.699788  ...     4.0     8.00     8.0\n",
              "Displacement  314.0   195.318471  104.331589  ...   151.0   265.75   455.0\n",
              "Horsepower    314.0   104.869427   38.096214  ...    94.5   128.00   225.0\n",
              "Weight        314.0  2990.251592  843.898596  ...  2822.5  3608.00  5140.0\n",
              "Acceleration  314.0    15.559236    2.789230  ...    15.5    17.20    24.8\n",
              "Model Year    314.0    75.898089    3.675642  ...    76.0    79.00    82.0\n",
              "Europe        314.0     0.178344    0.383413  ...     0.0     0.00     1.0\n",
              "Japan         314.0     0.197452    0.398712  ...     0.0     0.00     1.0\n",
              "USA           314.0     0.624204    0.485101  ...     1.0     1.00     1.0\n",
              "\n",
              "[9 rows x 8 columns]"
            ]
          },
          "metadata": {
            "tags": []
          },
          "execution_count": 11
        }
      ]
    },
    {
      "cell_type": "code",
      "metadata": {
        "id": "lGJ52KnEUTKV"
      },
      "source": [
        "\n",
        "train_labels = train_dataset.pop('MPG')\n",
        "test_labels = test_dataset.pop('MPG')"
      ],
      "execution_count": null,
      "outputs": []
    },
    {
      "cell_type": "code",
      "metadata": {
        "id": "TQqYKo22UUni"
      },
      "source": [
        "def norm(x):\n",
        "  return (x - train_stats['mean']) / train_stats['std']\n",
        "normed_train_data = norm(train_dataset)\n",
        "normed_test_data = norm(test_dataset)"
      ],
      "execution_count": null,
      "outputs": []
    },
    {
      "cell_type": "code",
      "metadata": {
        "colab": {
          "base_uri": "https://localhost:8080/"
        },
        "id": "o63QAtcX4dRO",
        "outputId": "f4ef09f8-ee09-4cb9-f55f-1dc74abcdd5b"
      },
      "source": [
        "normed_train_data.shape"
      ],
      "execution_count": null,
      "outputs": [
        {
          "output_type": "execute_result",
          "data": {
            "text/plain": [
              "(314, 9)"
            ]
          },
          "metadata": {
            "tags": []
          },
          "execution_count": 14
        }
      ]
    },
    {
      "cell_type": "code",
      "metadata": {
        "colab": {
          "base_uri": "https://localhost:8080/"
        },
        "id": "kvhGlNj34iZV",
        "outputId": "f8516945-8588-48b1-8ad8-557d68161f10"
      },
      "source": [
        "len(normed_train_data.keys())"
      ],
      "execution_count": null,
      "outputs": [
        {
          "output_type": "execute_result",
          "data": {
            "text/plain": [
              "9"
            ]
          },
          "metadata": {
            "tags": []
          },
          "execution_count": 15
        }
      ]
    },
    {
      "cell_type": "code",
      "metadata": {
        "id": "Shaa4gqfUWoM"
      },
      "source": [
        "def build_model():\n",
        "  model = keras.Sequential([\n",
        "    layers.Dense(64, activation='relu', input_shape=[len(train_dataset.keys())]),\n",
        "    layers.Dense(128, activation='relu'),\n",
        "    layers.Dense(64,activation ='relu'),\n",
        "    layers.Dense(1)\n",
        "  ])\n",
        "\n",
        "  optimizer = tf.keras.optimizers.RMSprop(0.001)\n",
        "\n",
        "  model.compile(loss='mse',\n",
        "                optimizer=optimizer,\n",
        "                metrics=['mae', 'mse'])\n",
        "  return model"
      ],
      "execution_count": null,
      "outputs": []
    },
    {
      "cell_type": "code",
      "metadata": {
        "id": "Qgg1YVOCYRT7"
      },
      "source": [
        "?tf.keras.optimizers.RMSprop"
      ],
      "execution_count": null,
      "outputs": []
    },
    {
      "cell_type": "code",
      "metadata": {
        "id": "BkhHz8g7UY-n"
      },
      "source": [
        "model = build_model()"
      ],
      "execution_count": null,
      "outputs": []
    },
    {
      "cell_type": "code",
      "metadata": {
        "colab": {
          "base_uri": "https://localhost:8080/"
        },
        "id": "QrHRuhdMXz7X",
        "outputId": "ea8c5e4a-2c84-4abb-c653-4778708da0fe"
      },
      "source": [
        "params_count = (9+1)*64 + (64+1)*128 + (128+1)*64 + (64+1)*1\n",
        "params_count"
      ],
      "execution_count": null,
      "outputs": [
        {
          "output_type": "execute_result",
          "data": {
            "text/plain": [
              "17281"
            ]
          },
          "metadata": {
            "tags": []
          },
          "execution_count": 18
        }
      ]
    },
    {
      "cell_type": "code",
      "metadata": {
        "id": "3o8X1jwyUbJx",
        "colab": {
          "base_uri": "https://localhost:8080/"
        },
        "outputId": "99f34aa2-6394-4d9f-a7fd-f5d3e06ea53b"
      },
      "source": [
        "model.summary()"
      ],
      "execution_count": null,
      "outputs": [
        {
          "output_type": "stream",
          "text": [
            "Model: \"sequential\"\n",
            "_________________________________________________________________\n",
            "Layer (type)                 Output Shape              Param #   \n",
            "=================================================================\n",
            "dense (Dense)                (None, 64)                640       \n",
            "_________________________________________________________________\n",
            "dense_1 (Dense)              (None, 128)               8320      \n",
            "_________________________________________________________________\n",
            "dense_2 (Dense)              (None, 64)                8256      \n",
            "_________________________________________________________________\n",
            "dense_3 (Dense)              (None, 1)                 65        \n",
            "=================================================================\n",
            "Total params: 17,281\n",
            "Trainable params: 17,281\n",
            "Non-trainable params: 0\n",
            "_________________________________________________________________\n"
          ],
          "name": "stdout"
        }
      ]
    },
    {
      "cell_type": "code",
      "metadata": {
        "id": "t7xJktbLUeAN",
        "colab": {
          "base_uri": "https://localhost:8080/"
        },
        "outputId": "afc44692-bbfb-4c70-92c0-f175791deab0"
      },
      "source": [
        "EPOCHS = 50\n",
        "\n",
        "history = model.fit(\n",
        "  normed_train_data, train_labels,\n",
        "  epochs=EPOCHS, validation_split = 0.2, verbose=2,\n",
        "  callbacks=[tfdocs.modeling.EpochDots()])"
      ],
      "execution_count": null,
      "outputs": [
        {
          "output_type": "stream",
          "text": [
            "Epoch 1/50\n",
            "8/8 - 3s - loss: 525.3757 - mae: 21.6137 - mse: 525.3757 - val_loss: 436.9165 - val_mae: 19.5678 - val_mse: 436.9165\n",
            "\n",
            "Epoch: 0, loss:525.3757,  mae:21.6137,  mse:525.3757,  val_loss:436.9165,  val_mae:19.5678,  val_mse:436.9165,  \n",
            ".Epoch 2/50\n",
            "8/8 - 0s - loss: 336.1407 - mae: 16.8886 - mse: 336.1407 - val_loss: 203.4427 - val_mae: 12.6570 - val_mse: 203.4427\n",
            ".Epoch 3/50\n",
            "8/8 - 0s - loss: 139.5882 - mae: 10.0441 - mse: 139.5882 - val_loss: 59.2250 - val_mae: 6.4572 - val_mse: 59.2250\n",
            ".Epoch 4/50\n",
            "8/8 - 0s - loss: 44.6035 - mae: 5.2218 - mse: 44.6035 - val_loss: 25.8591 - val_mae: 4.0802 - val_mse: 25.8591\n",
            ".Epoch 5/50\n",
            "8/8 - 0s - loss: 22.6336 - mae: 3.6499 - mse: 22.6336 - val_loss: 18.8810 - val_mae: 3.3642 - val_mse: 18.8810\n",
            ".Epoch 6/50\n",
            "8/8 - 0s - loss: 16.3602 - mae: 3.0533 - mse: 16.3602 - val_loss: 15.6716 - val_mae: 3.0001 - val_mse: 15.6716\n",
            ".Epoch 7/50\n",
            "8/8 - 0s - loss: 13.1860 - mae: 2.7109 - mse: 13.1860 - val_loss: 16.7487 - val_mae: 3.0313 - val_mse: 16.7487\n",
            ".Epoch 8/50\n",
            "8/8 - 0s - loss: 12.0395 - mae: 2.5621 - mse: 12.0395 - val_loss: 13.2482 - val_mae: 2.9684 - val_mse: 13.2482\n",
            ".Epoch 9/50\n",
            "8/8 - 0s - loss: 11.1995 - mae: 2.4618 - mse: 11.1995 - val_loss: 11.9705 - val_mae: 2.8566 - val_mse: 11.9705\n",
            ".Epoch 10/50\n",
            "8/8 - 0s - loss: 10.2876 - mae: 2.3367 - mse: 10.2876 - val_loss: 10.5704 - val_mae: 2.6196 - val_mse: 10.5704\n",
            ".Epoch 11/50\n",
            "8/8 - 0s - loss: 10.8679 - mae: 2.3870 - mse: 10.8679 - val_loss: 11.4871 - val_mae: 2.8468 - val_mse: 11.4871\n",
            ".Epoch 12/50\n",
            "8/8 - 0s - loss: 9.6233 - mae: 2.2195 - mse: 9.6233 - val_loss: 12.5816 - val_mae: 3.0074 - val_mse: 12.5816\n",
            ".Epoch 13/50\n",
            "8/8 - 0s - loss: 10.0604 - mae: 2.3468 - mse: 10.0604 - val_loss: 10.0910 - val_mae: 2.5401 - val_mse: 10.0910\n",
            ".Epoch 14/50\n",
            "8/8 - 0s - loss: 8.8517 - mae: 2.1462 - mse: 8.8517 - val_loss: 10.1907 - val_mae: 2.4792 - val_mse: 10.1907\n",
            ".Epoch 15/50\n",
            "8/8 - 0s - loss: 8.7396 - mae: 2.1364 - mse: 8.7396 - val_loss: 9.8202 - val_mae: 2.3576 - val_mse: 9.8202\n",
            ".Epoch 16/50\n",
            "8/8 - 0s - loss: 9.9256 - mae: 2.2733 - mse: 9.9256 - val_loss: 9.7248 - val_mae: 2.5442 - val_mse: 9.7248\n",
            ".Epoch 17/50\n",
            "8/8 - 0s - loss: 8.1675 - mae: 2.0348 - mse: 8.1675 - val_loss: 10.1250 - val_mae: 2.3436 - val_mse: 10.1250\n",
            ".Epoch 18/50\n",
            "8/8 - 0s - loss: 8.3351 - mae: 2.1290 - mse: 8.3351 - val_loss: 11.1722 - val_mae: 2.3766 - val_mse: 11.1722\n",
            ".Epoch 19/50\n",
            "8/8 - 0s - loss: 8.8416 - mae: 2.1595 - mse: 8.8416 - val_loss: 9.3155 - val_mae: 2.4159 - val_mse: 9.3155\n",
            ".Epoch 20/50\n",
            "8/8 - 0s - loss: 7.9950 - mae: 2.0540 - mse: 7.9950 - val_loss: 11.5416 - val_mae: 2.8757 - val_mse: 11.5416\n",
            ".Epoch 21/50\n",
            "8/8 - 0s - loss: 8.2813 - mae: 2.1087 - mse: 8.2813 - val_loss: 8.9309 - val_mae: 2.4033 - val_mse: 8.9309\n",
            ".Epoch 22/50\n",
            "8/8 - 0s - loss: 7.7888 - mae: 1.9778 - mse: 7.7888 - val_loss: 9.5846 - val_mae: 2.5807 - val_mse: 9.5846\n",
            ".Epoch 23/50\n",
            "8/8 - 0s - loss: 7.5270 - mae: 1.9786 - mse: 7.5270 - val_loss: 9.1440 - val_mae: 2.4084 - val_mse: 9.1440\n",
            ".Epoch 24/50\n",
            "8/8 - 0s - loss: 7.4498 - mae: 1.9457 - mse: 7.4498 - val_loss: 9.6260 - val_mae: 2.3442 - val_mse: 9.6260\n",
            ".Epoch 25/50\n",
            "8/8 - 0s - loss: 7.1900 - mae: 1.9412 - mse: 7.1900 - val_loss: 14.3456 - val_mae: 2.5939 - val_mse: 14.3456\n",
            ".Epoch 26/50\n",
            "8/8 - 0s - loss: 8.2253 - mae: 2.1175 - mse: 8.2253 - val_loss: 9.1863 - val_mae: 2.3247 - val_mse: 9.1863\n",
            ".Epoch 27/50\n",
            "8/8 - 0s - loss: 6.9967 - mae: 1.9026 - mse: 6.9967 - val_loss: 12.0584 - val_mae: 2.4340 - val_mse: 12.0584\n",
            ".Epoch 28/50\n",
            "8/8 - 0s - loss: 8.0724 - mae: 2.0621 - mse: 8.0724 - val_loss: 9.2483 - val_mae: 2.4731 - val_mse: 9.2483\n",
            ".Epoch 29/50\n",
            "8/8 - 0s - loss: 7.1494 - mae: 1.8809 - mse: 7.1494 - val_loss: 10.4989 - val_mae: 2.3069 - val_mse: 10.4989\n",
            ".Epoch 30/50\n",
            "8/8 - 0s - loss: 6.8009 - mae: 1.8840 - mse: 6.8009 - val_loss: 9.2153 - val_mae: 2.5034 - val_mse: 9.2153\n",
            ".Epoch 31/50\n",
            "8/8 - 0s - loss: 6.9778 - mae: 1.9409 - mse: 6.9778 - val_loss: 8.7210 - val_mae: 2.2556 - val_mse: 8.7210\n",
            ".Epoch 32/50\n",
            "8/8 - 0s - loss: 8.1010 - mae: 1.9844 - mse: 8.1010 - val_loss: 9.1359 - val_mae: 2.4590 - val_mse: 9.1359\n",
            ".Epoch 33/50\n",
            "8/8 - 0s - loss: 7.2442 - mae: 1.9275 - mse: 7.2442 - val_loss: 9.1364 - val_mae: 2.3616 - val_mse: 9.1364\n",
            ".Epoch 34/50\n",
            "8/8 - 0s - loss: 8.1452 - mae: 2.0536 - mse: 8.1452 - val_loss: 9.1481 - val_mae: 2.4396 - val_mse: 9.1481\n",
            ".Epoch 35/50\n",
            "8/8 - 0s - loss: 6.6098 - mae: 1.8342 - mse: 6.6098 - val_loss: 8.9435 - val_mae: 2.3712 - val_mse: 8.9435\n",
            ".Epoch 36/50\n",
            "8/8 - 0s - loss: 6.7370 - mae: 1.8490 - mse: 6.7370 - val_loss: 9.2809 - val_mae: 2.2305 - val_mse: 9.2809\n",
            ".Epoch 37/50\n",
            "8/8 - 0s - loss: 7.8045 - mae: 1.9756 - mse: 7.8045 - val_loss: 9.2752 - val_mae: 2.5021 - val_mse: 9.2752\n",
            ".Epoch 38/50\n",
            "8/8 - 0s - loss: 7.0074 - mae: 1.8821 - mse: 7.0074 - val_loss: 9.0778 - val_mae: 2.4721 - val_mse: 9.0778\n",
            ".Epoch 39/50\n",
            "8/8 - 0s - loss: 6.6740 - mae: 1.8226 - mse: 6.6740 - val_loss: 8.3863 - val_mae: 2.3296 - val_mse: 8.3863\n",
            ".Epoch 40/50\n",
            "8/8 - 0s - loss: 7.4916 - mae: 1.8589 - mse: 7.4916 - val_loss: 8.5243 - val_mae: 2.3216 - val_mse: 8.5243\n",
            ".Epoch 41/50\n",
            "8/8 - 0s - loss: 6.6316 - mae: 1.8223 - mse: 6.6316 - val_loss: 8.5811 - val_mae: 2.2162 - val_mse: 8.5811\n",
            ".Epoch 42/50\n",
            "8/8 - 0s - loss: 6.8405 - mae: 1.8935 - mse: 6.8405 - val_loss: 9.2482 - val_mae: 2.2329 - val_mse: 9.2482\n",
            ".Epoch 43/50\n",
            "8/8 - 0s - loss: 6.7610 - mae: 1.8943 - mse: 6.7610 - val_loss: 11.3537 - val_mae: 2.7722 - val_mse: 11.3537\n",
            ".Epoch 44/50\n",
            "8/8 - 0s - loss: 6.5563 - mae: 1.8191 - mse: 6.5563 - val_loss: 9.7667 - val_mae: 2.2196 - val_mse: 9.7667\n",
            ".Epoch 45/50\n",
            "8/8 - 0s - loss: 6.5246 - mae: 1.8505 - mse: 6.5246 - val_loss: 11.2481 - val_mae: 2.4193 - val_mse: 11.2481\n",
            ".Epoch 46/50\n",
            "8/8 - 0s - loss: 6.3136 - mae: 1.8169 - mse: 6.3136 - val_loss: 8.5976 - val_mae: 2.3759 - val_mse: 8.5976\n",
            ".Epoch 47/50\n",
            "8/8 - 0s - loss: 6.2423 - mae: 1.7910 - mse: 6.2423 - val_loss: 9.6180 - val_mae: 2.2768 - val_mse: 9.6180\n",
            ".Epoch 48/50\n",
            "8/8 - 0s - loss: 6.3494 - mae: 1.7623 - mse: 6.3494 - val_loss: 8.7403 - val_mae: 2.3051 - val_mse: 8.7403\n",
            ".Epoch 49/50\n",
            "8/8 - 0s - loss: 7.1748 - mae: 1.9170 - mse: 7.1748 - val_loss: 8.8988 - val_mae: 2.2000 - val_mse: 8.8988\n",
            ".Epoch 50/50\n",
            "8/8 - 0s - loss: 6.0769 - mae: 1.7658 - mse: 6.0769 - val_loss: 8.9630 - val_mae: 2.3015 - val_mse: 8.9630\n",
            "."
          ],
          "name": "stdout"
        }
      ]
    },
    {
      "cell_type": "code",
      "metadata": {
        "id": "Zb3xK03MUizz",
        "colab": {
          "base_uri": "https://localhost:8080/",
          "height": 206
        },
        "outputId": "c10b5085-1be2-4ee4-e18b-c9283b0779ef"
      },
      "source": [
        "hist = pd.DataFrame(history.history)\n",
        "hist['epoch'] = history.epoch\n",
        "hist.tail()"
      ],
      "execution_count": null,
      "outputs": [
        {
          "output_type": "execute_result",
          "data": {
            "text/html": [
              "<div>\n",
              "<style scoped>\n",
              "    .dataframe tbody tr th:only-of-type {\n",
              "        vertical-align: middle;\n",
              "    }\n",
              "\n",
              "    .dataframe tbody tr th {\n",
              "        vertical-align: top;\n",
              "    }\n",
              "\n",
              "    .dataframe thead th {\n",
              "        text-align: right;\n",
              "    }\n",
              "</style>\n",
              "<table border=\"1\" class=\"dataframe\">\n",
              "  <thead>\n",
              "    <tr style=\"text-align: right;\">\n",
              "      <th></th>\n",
              "      <th>loss</th>\n",
              "      <th>mae</th>\n",
              "      <th>mse</th>\n",
              "      <th>val_loss</th>\n",
              "      <th>val_mae</th>\n",
              "      <th>val_mse</th>\n",
              "      <th>epoch</th>\n",
              "    </tr>\n",
              "  </thead>\n",
              "  <tbody>\n",
              "    <tr>\n",
              "      <th>45</th>\n",
              "      <td>6.313634</td>\n",
              "      <td>1.816912</td>\n",
              "      <td>6.313634</td>\n",
              "      <td>8.597625</td>\n",
              "      <td>2.375935</td>\n",
              "      <td>8.597625</td>\n",
              "      <td>45</td>\n",
              "    </tr>\n",
              "    <tr>\n",
              "      <th>46</th>\n",
              "      <td>6.242275</td>\n",
              "      <td>1.791025</td>\n",
              "      <td>6.242275</td>\n",
              "      <td>9.618000</td>\n",
              "      <td>2.276795</td>\n",
              "      <td>9.618000</td>\n",
              "      <td>46</td>\n",
              "    </tr>\n",
              "    <tr>\n",
              "      <th>47</th>\n",
              "      <td>6.349425</td>\n",
              "      <td>1.762280</td>\n",
              "      <td>6.349425</td>\n",
              "      <td>8.740310</td>\n",
              "      <td>2.305076</td>\n",
              "      <td>8.740310</td>\n",
              "      <td>47</td>\n",
              "    </tr>\n",
              "    <tr>\n",
              "      <th>48</th>\n",
              "      <td>7.174837</td>\n",
              "      <td>1.917047</td>\n",
              "      <td>7.174837</td>\n",
              "      <td>8.898757</td>\n",
              "      <td>2.199980</td>\n",
              "      <td>8.898757</td>\n",
              "      <td>48</td>\n",
              "    </tr>\n",
              "    <tr>\n",
              "      <th>49</th>\n",
              "      <td>6.076913</td>\n",
              "      <td>1.765836</td>\n",
              "      <td>6.076913</td>\n",
              "      <td>8.963005</td>\n",
              "      <td>2.301485</td>\n",
              "      <td>8.963005</td>\n",
              "      <td>49</td>\n",
              "    </tr>\n",
              "  </tbody>\n",
              "</table>\n",
              "</div>"
            ],
            "text/plain": [
              "        loss       mae       mse  val_loss   val_mae   val_mse  epoch\n",
              "45  6.313634  1.816912  6.313634  8.597625  2.375935  8.597625     45\n",
              "46  6.242275  1.791025  6.242275  9.618000  2.276795  9.618000     46\n",
              "47  6.349425  1.762280  6.349425  8.740310  2.305076  8.740310     47\n",
              "48  7.174837  1.917047  7.174837  8.898757  2.199980  8.898757     48\n",
              "49  6.076913  1.765836  6.076913  8.963005  2.301485  8.963005     49"
            ]
          },
          "metadata": {
            "tags": []
          },
          "execution_count": 21
        }
      ]
    },
    {
      "cell_type": "code",
      "metadata": {
        "id": "-0S_KE2GUklw"
      },
      "source": [
        "\n",
        "plotter = tfdocs.plots.HistoryPlotter(smoothing_std=2)"
      ],
      "execution_count": null,
      "outputs": []
    },
    {
      "cell_type": "code",
      "metadata": {
        "id": "LeK79wx9UmAi",
        "colab": {
          "base_uri": "https://localhost:8080/",
          "height": 300
        },
        "outputId": "2ad3b9c7-df2c-4d59-f6bb-e7b522a885a2"
      },
      "source": [
        "plotter.plot({'Basic': history}, metric = \"mae\")\n",
        "plt.ylim([0, 10])\n",
        "plt.ylabel('MAE [MPG]')"
      ],
      "execution_count": null,
      "outputs": [
        {
          "output_type": "execute_result",
          "data": {
            "text/plain": [
              "Text(0, 0.5, 'MAE [MPG]')"
            ]
          },
          "metadata": {
            "tags": []
          },
          "execution_count": 56
        },
        {
          "output_type": "display_data",
          "data": {
            "image/png": "[encoded data removed]",
            "text/plain": [
              "<Figure size 432x288 with 1 Axes>"
            ]
          },
          "metadata": {
            "tags": [],
            "needs_background": "light"
          }
        }
      ]
    },
    {
      "cell_type": "code",
      "metadata": {
        "id": "RRkrJPH3UnH9",
        "colab": {
          "base_uri": "https://localhost:8080/",
          "height": 300
        },
        "outputId": "9111339c-7e6c-4bbc-ec86-3df89ed8ad28"
      },
      "source": [
        "plotter.plot({'Basic': history}, metric = \"mse\")\n",
        "plt.ylim([0, 20])\n",
        "plt.ylabel('MSE [MPG^2]')"
      ],
      "execution_count": null,
      "outputs": [
        {
          "output_type": "execute_result",
          "data": {
            "text/plain": [
              "Text(0, 0.5, 'MSE [MPG^2]')"
            ]
          },
          "metadata": {
            "tags": []
          },
          "execution_count": 23
        },
        {
          "output_type": "display_data",
          "data": {
            "image/png": "[encoded data removed]",
            "text/plain": [
              "<Figure size 432x288 with 1 Axes>"
            ]
          },
          "metadata": {
            "tags": [],
            "needs_background": "light"
          }
        }
      ]
    },
    {
      "cell_type": "code",
      "metadata": {
        "id": "2T3_UbxtUodO",
        "colab": {
          "base_uri": "https://localhost:8080/"
        },
        "outputId": "61ec6a11-9010-4228-a927-0412027e0336"
      },
      "source": [
        "model = build_model()\n",
        "\n",
        "# The patience parameter is the amount of epochs to check for improvement\n",
        "early_stop = keras.callbacks.EarlyStopping(monitor='val_loss', patience=10)\n",
        "\n",
        "early_history = model.fit(normed_train_data, train_labels, \n",
        "                    epochs=EPOCHS, validation_split = 0.2, verbose=0, \n",
        "                    callbacks=[early_stop, tfdocs.modeling.EpochDots()])"
      ],
      "execution_count": null,
      "outputs": [
        {
          "output_type": "stream",
          "text": [
            "\n",
            "Epoch: 0, loss:548.2538,  mae:22.0858,  mse:548.2538,  val_loss:486.0409,  val_mae:20.6027,  val_mse:486.0409,  \n",
            "..........................."
          ],
          "name": "stdout"
        }
      ]
    },
    {
      "cell_type": "code",
      "metadata": {
        "id": "aZWa-DwIVMEU",
        "colab": {
          "base_uri": "https://localhost:8080/",
          "height": 206
        },
        "outputId": "a2a15d12-915c-4054-ee8b-952eaebb82ca"
      },
      "source": [
        "hist = pd.DataFrame(early_history.history)\n",
        "hist['epoch'] = early_history.epoch\n",
        "hist.tail()"
      ],
      "execution_count": null,
      "outputs": [
        {
          "output_type": "execute_result",
          "data": {
            "text/html": [
              "<div>\n",
              "<style scoped>\n",
              "    .dataframe tbody tr th:only-of-type {\n",
              "        vertical-align: middle;\n",
              "    }\n",
              "\n",
              "    .dataframe tbody tr th {\n",
              "        vertical-align: top;\n",
              "    }\n",
              "\n",
              "    .dataframe thead th {\n",
              "        text-align: right;\n",
              "    }\n",
              "</style>\n",
              "<table border=\"1\" class=\"dataframe\">\n",
              "  <thead>\n",
              "    <tr style=\"text-align: right;\">\n",
              "      <th></th>\n",
              "      <th>loss</th>\n",
              "      <th>mae</th>\n",
              "      <th>mse</th>\n",
              "      <th>val_loss</th>\n",
              "      <th>val_mae</th>\n",
              "      <th>val_mse</th>\n",
              "      <th>epoch</th>\n",
              "    </tr>\n",
              "  </thead>\n",
              "  <tbody>\n",
              "    <tr>\n",
              "      <th>22</th>\n",
              "      <td>8.547659</td>\n",
              "      <td>2.113405</td>\n",
              "      <td>8.547659</td>\n",
              "      <td>8.621743</td>\n",
              "      <td>2.232858</td>\n",
              "      <td>8.621742</td>\n",
              "      <td>22</td>\n",
              "    </tr>\n",
              "    <tr>\n",
              "      <th>23</th>\n",
              "      <td>7.913582</td>\n",
              "      <td>2.078555</td>\n",
              "      <td>7.913582</td>\n",
              "      <td>8.897999</td>\n",
              "      <td>2.438434</td>\n",
              "      <td>8.897999</td>\n",
              "      <td>23</td>\n",
              "    </tr>\n",
              "    <tr>\n",
              "      <th>24</th>\n",
              "      <td>7.451226</td>\n",
              "      <td>1.974781</td>\n",
              "      <td>7.451226</td>\n",
              "      <td>8.963708</td>\n",
              "      <td>2.327280</td>\n",
              "      <td>8.963708</td>\n",
              "      <td>24</td>\n",
              "    </tr>\n",
              "    <tr>\n",
              "      <th>25</th>\n",
              "      <td>7.758692</td>\n",
              "      <td>1.974035</td>\n",
              "      <td>7.758692</td>\n",
              "      <td>10.679730</td>\n",
              "      <td>2.335273</td>\n",
              "      <td>10.679730</td>\n",
              "      <td>25</td>\n",
              "    </tr>\n",
              "    <tr>\n",
              "      <th>26</th>\n",
              "      <td>7.435066</td>\n",
              "      <td>2.004848</td>\n",
              "      <td>7.435066</td>\n",
              "      <td>9.460804</td>\n",
              "      <td>2.474540</td>\n",
              "      <td>9.460804</td>\n",
              "      <td>26</td>\n",
              "    </tr>\n",
              "  </tbody>\n",
              "</table>\n",
              "</div>"
            ],
            "text/plain": [
              "        loss       mae       mse   val_loss   val_mae    val_mse  epoch\n",
              "22  8.547659  2.113405  8.547659   8.621743  2.232858   8.621742     22\n",
              "23  7.913582  2.078555  7.913582   8.897999  2.438434   8.897999     23\n",
              "24  7.451226  1.974781  7.451226   8.963708  2.327280   8.963708     24\n",
              "25  7.758692  1.974035  7.758692  10.679730  2.335273  10.679730     25\n",
              "26  7.435066  2.004848  7.435066   9.460804  2.474540   9.460804     26"
            ]
          },
          "metadata": {
            "tags": []
          },
          "execution_count": 25
        }
      ]
    },
    {
      "cell_type": "code",
      "metadata": {
        "id": "3jg5w7zsUqVB",
        "colab": {
          "base_uri": "https://localhost:8080/",
          "height": 300
        },
        "outputId": "909e5286-cc64-4fc9-c134-f0765b473a40"
      },
      "source": [
        "plotter.plot({'Early Stopping': early_history}, metric = \"mae\")\n",
        "plt.ylim([0, 10])\n",
        "plt.ylabel('MAE [MPG]')"
      ],
      "execution_count": null,
      "outputs": [
        {
          "output_type": "execute_result",
          "data": {
            "text/plain": [
              "Text(0, 0.5, 'MAE [MPG]')"
            ]
          },
          "metadata": {
            "tags": []
          },
          "execution_count": 26
        },
        {
          "output_type": "display_data",
          "data": {
            "image/png": "[encoded data removed]",
            "text/plain": [
              "<Figure size 432x288 with 1 Axes>"
            ]
          },
          "metadata": {
            "tags": [],
            "needs_background": "light"
          }
        }
      ]
    },
    {
      "cell_type": "code",
      "metadata": {
        "id": "4KGwKryJUrh7",
        "colab": {
          "base_uri": "https://localhost:8080/"
        },
        "outputId": "a9d4a628-096f-42d6-b88b-674f640b1a71"
      },
      "source": [
        "loss, mae, mse = model.evaluate(normed_test_data, test_labels, verbose=2)\n",
        "\n",
        "print(\"Testing set Mean Abs Error: {:5.2f} MPG\".format(mae))"
      ],
      "execution_count": null,
      "outputs": [
        {
          "output_type": "stream",
          "text": [
            "3/3 - 0s - loss: 7.2042 - mae: 1.9479 - mse: 7.2042\n",
            "Testing set Mean Abs Error:  1.95 MPG\n"
          ],
          "name": "stdout"
        }
      ]
    },
    {
      "cell_type": "code",
      "metadata": {
        "id": "h_toZsvoUsqG",
        "colab": {
          "base_uri": "https://localhost:8080/",
          "height": 283
        },
        "outputId": "3d0ee84b-95ad-440b-aa53-317e87923d51"
      },
      "source": [
        "test_predictions = model.predict(normed_test_data).flatten()\n",
        "\n",
        "a = plt.axes(aspect='equal')\n",
        "plt.scatter(test_labels, test_predictions)\n",
        "plt.xlabel('True Values [MPG]')\n",
        "plt.ylabel('Predictions [MPG]')\n",
        "lims = [0, 50]\n",
        "plt.xlim(lims)\n",
        "plt.ylim(lims)\n",
        "_ = plt.plot(lims, lims)\n"
      ],
      "execution_count": null,
      "outputs": [
        {
          "output_type": "display_data",
          "data": {
            "image/png": "[encoded data removed]",
            "text/plain": [
              "<Figure size 432x288 with 1 Axes>"
            ]
          },
          "metadata": {
            "tags": [],
            "needs_background": "light"
          }
        }
      ]
    },
    {
      "cell_type": "code",
      "metadata": {
        "id": "VfGRDiAIUuCz",
        "colab": {
          "base_uri": "https://localhost:8080/",
          "height": 279
        },
        "outputId": "f88c1d96-1cce-41de-e321-3e9c971a1a32"
      },
      "source": [
        "error = test_predictions - test_labels\n",
        "plt.hist(error, bins = 25)\n",
        "plt.xlabel(\"Prediction Error [MPG]\")\n",
        "_ = plt.ylabel(\"Count\")"
      ],
      "execution_count": null,
      "outputs": [
        {
          "output_type": "display_data",
          "data": {
            "image/png": "[encoded data removed]",
            "text/plain": [
              "<Figure size 432x288 with 1 Axes>"
            ]
          },
          "metadata": {
            "tags": [],
            "needs_background": "light"
          }
        }
      ]
    },
    {
      "cell_type": "code",
      "metadata": {
        "id": "hhBPHPKI1rC9"
      },
      "source": [
        ""
      ],
      "execution_count": null,
      "outputs": []
    }
  ]
}