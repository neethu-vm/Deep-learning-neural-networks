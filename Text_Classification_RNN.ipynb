{
  "nbformat": 4,
  "nbformat_minor": 0,
  "metadata": {
    "colab": {
      "name": " Text Classification RNN.ipynb",
      "provenance": [],
      "collapsed_sections": [],
      "include_colab_link": true
    },
    "kernelspec": {
      "name": "python3",
      "display_name": "Python 3"
    },
    "accelerator": "GPU"
  },
  "cells": [
    {
      "cell_type": "markdown",
      "metadata": {
        "id": "view-in-github",
        "colab_type": "text"
      },
      "source": [
        "<a href=\"https://colab.research.google.com/github/neethu-vm/Deep-learning-neural-networks/blob/main/Text_Classification_RNN.ipynb\" target=\"_parent\"><img src=\"https://colab.research.google.com/assets/colab-badge.svg\" alt=\"Open In Colab\"/></a>"
      ]
    },
    {
      "cell_type": "code",
      "metadata": {
        "id": "WPPkFst7eJ6Z",
        "colab": {
          "base_uri": "https://localhost:8080/"
        },
        "outputId": "255a8dd5-0a73-4af2-fa10-be10420cd1f6"
      },
      "source": [
        "import nltk\n",
        "nltk.download('stopwords')"
      ],
      "execution_count": null,
      "outputs": [
        {
          "output_type": "stream",
          "text": [
            "[nltk_data] Downloading package stopwords to /root/nltk_data...\n",
            "[nltk_data]   Unzipping corpora/stopwords.zip.\n"
          ],
          "name": "stdout"
        },
        {
          "output_type": "execute_result",
          "data": {
            "text/plain": [
              "True"
            ]
          },
          "metadata": {
            "tags": []
          },
          "execution_count": 1
        }
      ]
    },
    {
      "cell_type": "code",
      "metadata": {
        "id": "pC8O0pXPea4f",
        "colab": {
          "base_uri": "https://localhost:8080/"
        },
        "outputId": "bc85a08b-7dd4-456c-a23f-cf254fad7106"
      },
      "source": [
        "import csv\n",
        "import tensorflow as tf\n",
        "import numpy as np\n",
        "from tensorflow.keras.preprocessing.text import Tokenizer\n",
        "from tensorflow.keras.preprocessing.sequence import pad_sequences\n",
        "from nltk.corpus import stopwords\n",
        "STOPWORDS = set(stopwords.words('english'))\n",
        "\n",
        "print(tf.__version__)"
      ],
      "execution_count": null,
      "outputs": [
        {
          "output_type": "stream",
          "text": [
            "2.5.0\n"
          ],
          "name": "stdout"
        }
      ]
    },
    {
      "cell_type": "code",
      "metadata": {
        "id": "bgGiMlJ5eRCC"
      },
      "source": [
        "vocab_size = 5000\n",
        "embedding_dim = 64\n",
        "max_length = 200\n",
        "trunc_type = 'post'\n",
        "padding_type = 'post'\n",
        "oov_tok = '<OOV>'\n",
        "training_portion = .80"
      ],
      "execution_count": null,
      "outputs": []
    },
    {
      "cell_type": "code",
      "metadata": {
        "id": "I7gteB4beuLv",
        "colab": {
          "base_uri": "https://localhost:8080/"
        },
        "outputId": "baab3754-8cf1-4107-a814-ed2e8a00f7c7"
      },
      "source": [
        "_URL = 'https://storage.googleapis.com/dataset-uploader/bbc/bbc-text.csv'\n",
        "\n",
        "PATH = tf.keras.utils.get_file('/bbc-text.csv', origin=_URL, extract=False)\n",
        "\n"
      ],
      "execution_count": null,
      "outputs": [
        {
          "output_type": "stream",
          "text": [
            "Downloading data from https://storage.googleapis.com/dataset-uploader/bbc/bbc-text.csv\n",
            "5062656/5057493 [==============================] - 0s 0us/step\n"
          ],
          "name": "stdout"
        }
      ]
    },
    {
      "cell_type": "code",
      "metadata": {
        "id": "OSHP1AAee6Ph",
        "colab": {
          "base_uri": "https://localhost:8080/",
          "height": 37
        },
        "outputId": "267c558e-96d5-47a2-f231-707a441caebd"
      },
      "source": [
        "PATH"
      ],
      "execution_count": null,
      "outputs": [
        {
          "output_type": "execute_result",
          "data": {
            "application/vnd.google.colaboratory.intrinsic+json": {
              "type": "string"
            },
            "text/plain": [
              "'/bbc-text.csv'"
            ]
          },
          "metadata": {
            "tags": []
          },
          "execution_count": 5
        }
      ]
    },
    {
      "cell_type": "code",
      "metadata": {
        "id": "QW3LOJfhZg98"
      },
      "source": [
        "import pandas as pd\n",
        "data = pd.read_csv(PATH)"
      ],
      "execution_count": null,
      "outputs": []
    },
    {
      "cell_type": "code",
      "metadata": {
        "colab": {
          "base_uri": "https://localhost:8080/",
          "height": 204
        },
        "id": "oSz4GdcyZlD3",
        "outputId": "a374f70a-85f8-41fa-b015-d98f0344dc47"
      },
      "source": [
        "data.head()"
      ],
      "execution_count": null,
      "outputs": [
        {
          "output_type": "execute_result",
          "data": {
            "text/html": [
              "<div>\n",
              "<style scoped>\n",
              "    .dataframe tbody tr th:only-of-type {\n",
              "        vertical-align: middle;\n",
              "    }\n",
              "\n",
              "    .dataframe tbody tr th {\n",
              "        vertical-align: top;\n",
              "    }\n",
              "\n",
              "    .dataframe thead th {\n",
              "        text-align: right;\n",
              "    }\n",
              "</style>\n",
              "<table border=\"1\" class=\"dataframe\">\n",
              "  <thead>\n",
              "    <tr style=\"text-align: right;\">\n",
              "      <th></th>\n",
              "      <th>category</th>\n",
              "      <th>text</th>\n",
              "    </tr>\n",
              "  </thead>\n",
              "  <tbody>\n",
              "    <tr>\n",
              "      <th>0</th>\n",
              "      <td>tech</td>\n",
              "      <td>tv future in the hands of viewers with home th...</td>\n",
              "    </tr>\n",
              "    <tr>\n",
              "      <th>1</th>\n",
              "      <td>business</td>\n",
              "      <td>worldcom boss  left books alone  former worldc...</td>\n",
              "    </tr>\n",
              "    <tr>\n",
              "      <th>2</th>\n",
              "      <td>sport</td>\n",
              "      <td>tigers wary of farrell  gamble  leicester say ...</td>\n",
              "    </tr>\n",
              "    <tr>\n",
              "      <th>3</th>\n",
              "      <td>sport</td>\n",
              "      <td>yeading face newcastle in fa cup premiership s...</td>\n",
              "    </tr>\n",
              "    <tr>\n",
              "      <th>4</th>\n",
              "      <td>entertainment</td>\n",
              "      <td>ocean s twelve raids box office ocean s twelve...</td>\n",
              "    </tr>\n",
              "  </tbody>\n",
              "</table>\n",
              "</div>"
            ],
            "text/plain": [
              "        category                                               text\n",
              "0           tech  tv future in the hands of viewers with home th...\n",
              "1       business  worldcom boss  left books alone  former worldc...\n",
              "2          sport  tigers wary of farrell  gamble  leicester say ...\n",
              "3          sport  yeading face newcastle in fa cup premiership s...\n",
              "4  entertainment  ocean s twelve raids box office ocean s twelve..."
            ]
          },
          "metadata": {
            "tags": []
          },
          "execution_count": 7
        }
      ]
    },
    {
      "cell_type": "code",
      "metadata": {
        "colab": {
          "base_uri": "https://localhost:8080/"
        },
        "id": "LZz4p_yzZs_s",
        "outputId": "2e192452-59a7-42b6-fffa-644cda8e3eef"
      },
      "source": [
        "data.shape"
      ],
      "execution_count": null,
      "outputs": [
        {
          "output_type": "execute_result",
          "data": {
            "text/plain": [
              "(2225, 2)"
            ]
          },
          "metadata": {
            "tags": []
          },
          "execution_count": 8
        }
      ]
    },
    {
      "cell_type": "code",
      "metadata": {
        "colab": {
          "base_uri": "https://localhost:8080/"
        },
        "id": "Ju5E7WQzZwOE",
        "outputId": "cae0a013-b7d7-4f22-d04d-5095fe8d9f82"
      },
      "source": [
        "data.category.unique()"
      ],
      "execution_count": null,
      "outputs": [
        {
          "output_type": "execute_result",
          "data": {
            "text/plain": [
              "array(['tech', 'business', 'sport', 'entertainment', 'politics'],\n",
              "      dtype=object)"
            ]
          },
          "metadata": {
            "tags": []
          },
          "execution_count": 9
        }
      ]
    },
    {
      "cell_type": "code",
      "metadata": {
        "id": "fExFgGV2eigg",
        "colab": {
          "base_uri": "https://localhost:8080/"
        },
        "outputId": "8a96b919-50a9-4629-be74-abd740af3449"
      },
      "source": [
        "articles = []\n",
        "labels = []\n",
        "\n",
        "with open(PATH, 'r') as csvfile:\n",
        "    reader = csv.reader(csvfile, delimiter=',')\n",
        "    next(reader)\n",
        "    for row in reader:\n",
        "        labels.append(row[0])\n",
        "        article = row[1]\n",
        "        for word in STOPWORDS:\n",
        "            token = ' ' + word + ' '\n",
        "            article = article.replace(token, ' ')\n",
        "            article = article.replace(' ', ' ')\n",
        "        articles.append(article)\n",
        "print(len(labels))\n",
        "print(len(articles))"
      ],
      "execution_count": null,
      "outputs": [
        {
          "output_type": "stream",
          "text": [
            "2225\n",
            "2225\n"
          ],
          "name": "stdout"
        }
      ]
    },
    {
      "cell_type": "code",
      "metadata": {
        "id": "W_iNiJ_HN2Zr",
        "colab": {
          "base_uri": "https://localhost:8080/"
        },
        "outputId": "c858b36b-b9f0-4ce4-cd45-ff05c34a7f4b"
      },
      "source": [
        "labels[0:5]"
      ],
      "execution_count": null,
      "outputs": [
        {
          "output_type": "execute_result",
          "data": {
            "text/plain": [
              "['tech', 'business', 'sport', 'sport', 'entertainment']"
            ]
          },
          "metadata": {
            "tags": []
          },
          "execution_count": 11
        }
      ]
    },
    {
      "cell_type": "code",
      "metadata": {
        "id": "wDKlm_XEN7KC",
        "colab": {
          "base_uri": "https://localhost:8080/"
        },
        "outputId": "8df73c66-3ae0-4f98-966b-8d26a9cd9f70"
      },
      "source": [
        "articles[0:5]"
      ],
      "execution_count": null,
      "outputs": [
        {
          "output_type": "execute_result",
          "data": {
            "text/plain": [
              "['tv future hands viewers home theatre systems  plasma high-definition tvs  digital video recorders moving living room  way people watch tv radically different five years  time.  according expert panel gathered annual consumer electronics show las vegas discuss new technologies impact one favourite pastimes. us leading trend  programmes content delivered viewers via home networks  cable  satellite  telecoms companies  broadband service providers front rooms portable devices.  one talked-about technologies ces digital personal video recorders (dvr pvr). set-top boxes  like us tivo uk sky+ system  allow people record  store  play  pause forward wind tv programmes want.  essentially  technology allows much personalised tv. also built-in high-definition tv sets  big business japan us  slower take europe lack high-definition programming. people forward wind adverts  also forget abiding network channel schedules  putting together a-la-carte entertainment. us networks cable satellite companies worried means terms advertising revenues well  brand identity  viewer loyalty channels. although us leads technology moment  also concern raised europe  particularly growing uptake services like sky+.  happens today  see nine months years  time uk   adam hume  bbc broadcast futurologist told bbc news website. likes bbc  issues lost advertising revenue yet. pressing issue moment commercial uk broadcasters  brand loyalty important everyone.  talking content brands rather network brands   said tim hanlon  brand communications firm starcom mediavest.  reality broadband connections  anybody producer content.  added:  challenge hard promote programme much choice.   means  said stacey jolna  senior vice president tv guide tv group  way people find content want watch simplified tv viewers. means networks  us terms  channels could take leaf google book search engine future  instead scheduler help people find want watch. kind channel model might work younger ipod generation used taking control gadgets play them. might suit everyone  panel recognised. older generations comfortable familiar schedules channel brands know getting. perhaps want much choice put hands  mr hanlon suggested.  end  kids diapers pushing buttons already - everything possible available   said mr hanlon.  ultimately  consumer tell market want.   50 000 new gadgets technologies showcased ces  many enhancing tv-watching experience. high-definition tv sets everywhere many new models lcd (liquid crystal display) tvs launched dvr capability built  instead external boxes. one example launched show humax 26-inch lcd tv 80-hour tivo dvr dvd recorder. one us biggest satellite tv companies  directtv  even launched branded dvr show 100-hours recording capability  instant replay  search function. set pause rewind tv 90 hours. microsoft chief bill gates announced pre-show keynote speech partnership tivo  called tivotogo  means people play recorded programmes windows pcs mobile devices. reflect increasing trend freeing multimedia people watch want  want.',\n",
              " 'worldcom boss  left books alone  former worldcom boss bernie ebbers  accused overseeing $11bn (£5.8bn) fraud  never made accounting decisions  witness told jurors.  david myers made comments questioning defence lawyers arguing mr ebbers responsible worldcom problems. phone company collapsed 2002 prosecutors claim losses hidden protect firm shares. mr myers already pleaded guilty fraud assisting prosecutors.  monday  defence lawyer reid weingarten tried distance client allegations. cross examination  asked mr myers ever knew mr ebbers  make accounting decision  .  aware   mr myers replied.  ever know mr ebbers make accounting entry worldcom books   mr weingarten pressed.    replied witness. mr myers admitted ordered false accounting entries request former worldcom chief financial officer scott sullivan. defence lawyers trying paint mr sullivan  admitted fraud testify later trial  mastermind behind worldcom accounting house cards.  mr ebbers  team  meanwhile  looking portray affable boss  admission pe graduate economist. whatever abilities  mr ebbers transformed worldcom relative unknown $160bn telecoms giant investor darling late 1990s. worldcom problems mounted  however  competition increased telecoms boom petered out. firm finally collapsed  shareholders lost $180bn 20 000 workers lost jobs. mr ebbers  trial expected last two months found guilty former ceo faces substantial jail sentence. firmly declared innocence.',\n",
              " 'tigers wary farrell  gamble  leicester say rushed making bid andy farrell great britain rugby league captain decide switch codes.   anybody else involved process still way away going next stage   tigers boss john wells told bbc radio leicester.  moment  still lot unknowns andy farrell  least medical situation.  whoever take going take big  big gamble.  farrell  persistent knee problems  operation knee five weeks ago expected another three months. leicester saracens believed head list rugby union clubs interested signing farrell decides move 15-man game.  move across union  wells believes would better playing backs  least initially.  sure could make step league union involved centre   said wells.  think england would prefer progress position back row make use of rugby league skills within forwards.  jury whether cross divide.  club  balance struck cost gamble option bringing ready-made replacement.',\n",
              " 'yeading face newcastle fa cup premiership side newcastle united face trip ryman premier league leaders yeading fa cup third round.  game - arguably highlight draw - potential money-spinner non-league yeading  beat slough second round. conference side exeter city  knocked doncaster saturday  travel old trafford meet holders manchester united january. arsenal drawn home stoke chelsea play host scunthorpe. non-league side draw hinckley united  held brentford goalless draw sunday. meet league one leaders luton win replay martin allen team griffin park.  number premiership teams face difficult away games championship sides weekend 8/9 january. third-placed everton visit plymouth  liverpool travel burnley  crystal palace go sunderland  fulham face carling cup semi-finalists watford  bolton meet ipswich  aston villa drawn sheffield united. premiership strugglers norwich  blackburn  west brom away west ham  cardiff preston north end respectively. southampton visit northampton  already beaten league two side carling cup earlier season. middlesbrough drawn away either swindon notts county  spurs entertain brighton white hart lane.  arsenal v stoke  swindon/notts co v middlesbrough  man utd v exeter  plymouth v everton  leicester v blackpool  derby v wigan  sunderland v crystal palace  wolves v millwall  yeading v newcastle  hull v colchester  tottenham v brighton  reading v stockport/swansea  birmingham v leeds  hartlepool v boston  milton keynes dons v peterborough  oldham v man city  chelsea v scunthorpe  cardiff v blackburn  charlton v rochdale  west ham v norwich  sheff utd v aston villa  preston v west brom  rotherham v yeovil  burnley v liverpool  bournemouth v chester  coventry v crewe  watford v fulham  ipswich v bolton  portsmouth v gillingham  northampton v southampton  qpr v nottm forest  luton v hinckley/brentford  matches played weekend 8/9 january.',\n",
              " 'ocean twelve raids box office ocean twelve  crime caper sequel starring george clooney  brad pitt julia roberts  gone straight number one us box office chart.  took $40.8m (£21m) weekend ticket sales  according studio estimates. sequel follows master criminals try pull three major heists across europe. knocked last week number one  national treasure  third place. wesley snipes  blade: trinity second  taking $16.1m (£8.4m). rounding top five animated fable polar express  starring tom hanks  festive comedy christmas kranks.  ocean twelve box office triumph marks fourth-biggest opening december release us  three films lord rings trilogy. sequel narrowly beat 2001 predecessor  ocean eleven took $38.1m (£19.8m) opening weekend $184m (£95.8m) total. remake 1960s film  starring frank sinatra rat pack  ocean eleven directed oscar-winning director steven soderbergh. soderbergh returns direct hit sequel reunites clooney  pitt roberts matt damon  andy garcia elliott gould. catherine zeta-jones joins all-star cast.  fun  good holiday movie   said dan fellman  president distribution warner bros. however  us critics less complimentary $110m (£57.2m) project  los angeles times labelling  dispiriting vanity project . milder review new york times dubbed sequel  unabashedly trivial .']"
            ]
          },
          "metadata": {
            "tags": []
          },
          "execution_count": 12
        }
      ]
    },
    {
      "cell_type": "code",
      "metadata": {
        "id": "VrPhP9L5en8m",
        "colab": {
          "base_uri": "https://localhost:8080/"
        },
        "outputId": "fc9b189c-d2ee-470a-843f-8e9d6b423473"
      },
      "source": [
        "train_size = int(len(articles) * training_portion)\n",
        "\n",
        "train_articles = articles[0: train_size]\n",
        "train_labels = labels[0: train_size]\n",
        "\n",
        "validation_articles = articles[train_size:]\n",
        "validation_labels = labels[train_size:]\n",
        "\n",
        "print(train_size)\n",
        "print(len(train_articles))\n",
        "print(len(train_labels))\n",
        "print(len(validation_articles))\n",
        "print(len(validation_labels))"
      ],
      "execution_count": null,
      "outputs": [
        {
          "output_type": "stream",
          "text": [
            "1780\n",
            "1780\n",
            "1780\n",
            "445\n",
            "445\n"
          ],
          "name": "stdout"
        }
      ]
    },
    {
      "cell_type": "code",
      "metadata": {
        "id": "SC-aDp_IfSFe"
      },
      "source": [
        "?Tokenizer"
      ],
      "execution_count": null,
      "outputs": []
    },
    {
      "cell_type": "markdown",
      "metadata": {
        "id": "utEEyoS9f3RE"
      },
      "source": [
        "Tokenizer does all the heavy lifting for us. In our articles that it was tokenizing, it will take 5,000 most common words. oov_token is to put a special value in when an unseen word is encountered. This means we want <OOV> to be used for words that are not in the word_index"
      ]
    },
    {
      "cell_type": "markdown",
      "metadata": {
        "id": "CzU1-ZjuYQkG"
      },
      "source": [
        "Lets us define an Out Of Vocab token - this will replace any unknown words with a token of our choosing. This is better than just throwing away unknown words since it tells our model there was information here."
      ]
    },
    {
      "cell_type": "code",
      "metadata": {
        "id": "9aVvudgAffC3",
        "colab": {
          "base_uri": "https://localhost:8080/"
        },
        "outputId": "23ec98ac-0124-4bef-d4d6-7535efcb3bac"
      },
      "source": [
        "tokenizer = Tokenizer(num_words = vocab_size, oov_token=oov_tok)\n",
        "tokenizer.fit_on_texts(train_articles)\n",
        "word_index = tokenizer.word_index\n",
        "dict(list(word_index.items())[0:10])"
      ],
      "execution_count": null,
      "outputs": [
        {
          "output_type": "execute_result",
          "data": {
            "text/plain": [
              "{'<OOV>': 1,\n",
              " 'also': 6,\n",
              " 'mr': 3,\n",
              " 'new': 8,\n",
              " 'one': 10,\n",
              " 'people': 7,\n",
              " 'said': 2,\n",
              " 'us': 9,\n",
              " 'would': 4,\n",
              " 'year': 5}"
            ]
          },
          "metadata": {
            "tags": []
          },
          "execution_count": 14
        }
      ]
    },
    {
      "cell_type": "markdown",
      "metadata": {
        "id": "XqU2CynzgKsU"
      },
      "source": [
        "After tokenization, the next step is to turn those tokens into lists of sequence. The following is the 11th article in the training data that has been turned into sequences."
      ]
    },
    {
      "cell_type": "code",
      "metadata": {
        "id": "SoPeNAzDfp0S",
        "colab": {
          "base_uri": "https://localhost:8080/"
        },
        "outputId": "9b480cc3-cfd3-44df-8f8d-7ef0da1f5f6c"
      },
      "source": [
        "train_sequences = tokenizer.texts_to_sequences(train_articles)\n",
        "print(train_sequences[10])"
      ],
      "execution_count": null,
      "outputs": [
        {
          "output_type": "stream",
          "text": [
            "[2432, 1, 225, 4995, 22, 641, 587, 225, 4995, 1, 1, 1663, 1, 1, 2432, 22, 564, 1, 1, 140, 278, 1, 140, 278, 796, 823, 662, 2308, 1, 1144, 1694, 1, 1721, 4996, 1, 1, 1, 1, 1, 4738, 1, 1, 122, 4514, 1, 2, 2874, 1506, 352, 4739, 1, 52, 341, 1, 352, 2173, 3962, 41, 22, 3796, 1, 1, 1, 1, 542, 1, 1, 1, 835, 631, 2367, 347, 4740, 1, 365, 22, 1, 787, 2368, 1, 4302, 138, 10, 1, 3666, 682, 3531, 1, 22, 1, 414, 823, 662, 1, 90, 13, 633, 1, 225, 4995, 1, 600, 1, 1694, 1021, 1, 4997, 808, 1864, 117, 1, 1, 1, 2975, 22, 1, 99, 278, 1, 1608, 4998, 542, 492, 1, 1444, 4741, 778, 1320, 1, 1861, 10, 33, 641, 319, 1, 62, 478, 564, 301, 1507, 22, 479, 1, 1, 1666, 1, 797, 1, 3067, 1, 1365, 6, 1, 2432, 564, 22, 2972, 4735, 1, 1, 1, 1, 1, 850, 39, 1825, 675, 297, 26, 979, 1, 882, 22, 361, 22, 13, 301, 1507, 1343, 374, 20, 63, 883, 1096, 4303, 247]\n"
          ],
          "name": "stdout"
        }
      ]
    },
    {
      "cell_type": "code",
      "metadata": {
        "id": "eth35Uf8PtLz",
        "colab": {
          "base_uri": "https://localhost:8080/"
        },
        "outputId": "c9ea316e-6cce-4cce-bd89-0539a8d79f41"
      },
      "source": [
        "print(train_articles[10])"
      ],
      "execution_count": null,
      "outputs": [
        {
          "output_type": "stream",
          "text": [
            "berlin cheers anti-nazi film german movie anti-nazi resistance heroine drawn loud applause berlin film festival.  sophie scholl - final days portrays final days member white rose movement. scholl  21  arrested beheaded brother  hans  1943 distributing leaflets condemning  abhorrent tyranny  adolf hitler. director marc rothemund said:  feeling responsibility keep legacy scholls going.   must somehow keep ideas alive   added.  film drew transcripts gestapo interrogations scholl trial preserved archive communist east germany secret police. discovery inspiration behind film rothemund  worked closely surviving relatives  including one scholl sisters  ensure historical accuracy film. scholl members white rose resistance group first started distributing anti-nazi leaflets summer 1942. arrested dropped leaflets munich university calling  day reckoning  adolf hitler regime. film focuses six days scholl arrest intense trial saw scholl initially deny charges ended defiant appearance. one three german films vying top prize festival.  south african film version bizet tragic opera carmen shot cape town xhosa language also premiered berlin festival. film entitled u-carmen ekhayelitsha carmen khayelitsha township story set. performed 40-strong music theatre troupe debut film performance. film first south african feature 25 years second nominated golden bear award.\n"
          ],
          "name": "stdout"
        }
      ]
    },
    {
      "cell_type": "code",
      "metadata": {
        "id": "FoYRahXegMwj",
        "colab": {
          "base_uri": "https://localhost:8080/"
        },
        "outputId": "6e55cd72-5623-4816-80de-271d41622cff"
      },
      "source": [
        "train_padded = pad_sequences(train_sequences, maxlen=max_length, padding=padding_type, truncating=trunc_type)\n",
        "print(\"train_sequences[0]\",len(train_sequences[0]))\n",
        "print(\"train_padded[0]\",len(train_padded[0]))\n",
        "\n",
        "print(\"train_sequences[1]\",len(train_sequences[1]))\n",
        "print(\"train_padded[1]\",len(train_padded[1]))\n",
        "\n",
        "print(\"train_sequences[10]\",len(train_sequences[10]))\n",
        "print(\"train_padded[10]\",len(train_padded[10]))"
      ],
      "execution_count": null,
      "outputs": [
        {
          "output_type": "stream",
          "text": [
            "train_sequences[0] 425\n",
            "train_padded[0] 200\n",
            "train_sequences[1] 192\n",
            "train_padded[1] 200\n",
            "train_sequences[10] 186\n",
            "train_padded[10] 200\n"
          ],
          "name": "stdout"
        }
      ]
    },
    {
      "cell_type": "code",
      "metadata": {
        "id": "BtKvmgbCgmiE",
        "colab": {
          "base_uri": "https://localhost:8080/"
        },
        "outputId": "73df8a7f-c06a-4d68-910e-e9f3fedf00bd"
      },
      "source": [
        "print(train_padded[10])"
      ],
      "execution_count": null,
      "outputs": [
        {
          "output_type": "stream",
          "text": [
            "[2432    1  225 4995   22  641  587  225 4995    1    1 1663    1    1\n",
            " 2432   22  564    1    1  140  278    1  140  278  796  823  662 2308\n",
            "    1 1144 1694    1 1721 4996    1    1    1    1    1 4738    1    1\n",
            "  122 4514    1    2 2874 1506  352 4739    1   52  341    1  352 2173\n",
            " 3962   41   22 3796    1    1    1    1  542    1    1    1  835  631\n",
            " 2367  347 4740    1  365   22    1  787 2368    1 4302  138   10    1\n",
            " 3666  682 3531    1   22    1  414  823  662    1   90   13  633    1\n",
            "  225 4995    1  600    1 1694 1021    1 4997  808 1864  117    1    1\n",
            "    1 2975   22    1   99  278    1 1608 4998  542  492    1 1444 4741\n",
            "  778 1320    1 1861   10   33  641  319    1   62  478  564  301 1507\n",
            "   22  479    1    1 1666    1  797    1 3067    1 1365    6    1 2432\n",
            "  564   22 2972 4735    1    1    1    1    1  850   39 1825  675  297\n",
            "   26  979    1  882   22  361   22   13  301 1507 1343  374   20   63\n",
            "  883 1096 4303  247    0    0    0    0    0    0    0    0    0    0\n",
            "    0    0    0    0]\n"
          ],
          "name": "stdout"
        }
      ]
    },
    {
      "cell_type": "code",
      "metadata": {
        "id": "ylVaY6C1gpr6",
        "colab": {
          "base_uri": "https://localhost:8080/"
        },
        "outputId": "d96aab51-643f-4de3-8850-f0412a8dc551"
      },
      "source": [
        "validation_sequences = tokenizer.texts_to_sequences(validation_articles)\n",
        "validation_padded = pad_sequences(validation_sequences, maxlen=max_length, padding=padding_type, truncating=trunc_type)\n",
        "\n",
        "print(len(validation_sequences))\n",
        "print(validation_padded.shape)"
      ],
      "execution_count": null,
      "outputs": [
        {
          "output_type": "stream",
          "text": [
            "445\n",
            "(445, 200)\n"
          ],
          "name": "stdout"
        }
      ]
    },
    {
      "cell_type": "markdown",
      "metadata": {
        "id": "Zxy6t4H-hBN7"
      },
      "source": [
        "Now we are going to look at the labels. Because our labels are text, so we will tokenize them, when training, labels are expected to be numpy arrays. So we will turn list of labels into numpy arrays like so"
      ]
    },
    {
      "cell_type": "code",
      "metadata": {
        "id": "70YfYf4vg2uI",
        "colab": {
          "base_uri": "https://localhost:8080/"
        },
        "outputId": "6636628e-d156-40f2-a018-9bbbeee9f36b"
      },
      "source": [
        "label_tokenizer = Tokenizer()\n",
        "label_tokenizer.fit_on_texts(labels)\n",
        "\n",
        "training_label_seq = np.array(label_tokenizer.texts_to_sequences(train_labels))\n",
        "validation_label_seq = np.array(label_tokenizer.texts_to_sequences(validation_labels))\n",
        "print(training_label_seq[0])\n",
        "print(training_label_seq[1])\n",
        "print(training_label_seq[2])\n",
        "print(training_label_seq.shape)\n",
        "\n",
        "print(validation_label_seq[0])\n",
        "print(validation_label_seq[1])\n",
        "print(validation_label_seq[2])\n",
        "print(validation_label_seq.shape)"
      ],
      "execution_count": null,
      "outputs": [
        {
          "output_type": "stream",
          "text": [
            "[4]\n",
            "[2]\n",
            "[1]\n",
            "(1780, 1)\n",
            "[5]\n",
            "[4]\n",
            "[3]\n",
            "(445, 1)\n"
          ],
          "name": "stdout"
        }
      ]
    },
    {
      "cell_type": "code",
      "metadata": {
        "id": "gPPyAKiEg8F7",
        "colab": {
          "base_uri": "https://localhost:8080/"
        },
        "outputId": "5955b42f-331c-4b66-90b7-dc6562793917"
      },
      "source": [
        "reverse_word_index = dict([(value, key) for (key, value) in word_index.items()])\n",
        "\n",
        "def decode_article(text):\n",
        "    return ' '.join([reverse_word_index.get(i, '?') for i in text])\n",
        "print(decode_article(train_padded[10]))\n",
        "print('---')\n",
        "print(train_articles[10])"
      ],
      "execution_count": null,
      "outputs": [
        {
          "output_type": "stream",
          "text": [
            "berlin <OOV> anti nazi film german movie anti nazi <OOV> <OOV> drawn <OOV> <OOV> berlin film festival <OOV> <OOV> final days <OOV> final days member white rose movement <OOV> 21 arrested <OOV> brother hans <OOV> <OOV> <OOV> <OOV> <OOV> tyranny <OOV> <OOV> director marc <OOV> said feeling responsibility keep legacy <OOV> going must <OOV> keep ideas alive added film drew <OOV> <OOV> <OOV> <OOV> trial <OOV> <OOV> <OOV> east germany secret police discovery <OOV> behind film <OOV> worked closely <OOV> relatives including one <OOV> sisters ensure historical <OOV> film <OOV> members white rose <OOV> group first started <OOV> anti nazi <OOV> summer <OOV> arrested dropped <OOV> munich university calling day <OOV> <OOV> <OOV> regime film <OOV> six days <OOV> arrest intense trial saw <OOV> initially deny charges ended <OOV> appearance one three german films <OOV> top prize festival south african film version <OOV> <OOV> opera <OOV> shot <OOV> town <OOV> language also <OOV> berlin festival film entitled u <OOV> <OOV> <OOV> <OOV> <OOV> story set performed 40 strong music theatre <OOV> debut film performance film first south african feature 25 years second nominated golden bear award ? ? ? ? ? ? ? ? ? ? ? ? ? ?\n",
            "---\n",
            "berlin cheers anti-nazi film german movie anti-nazi resistance heroine drawn loud applause berlin film festival.  sophie scholl - final days portrays final days member white rose movement. scholl  21  arrested beheaded brother  hans  1943 distributing leaflets condemning  abhorrent tyranny  adolf hitler. director marc rothemund said:  feeling responsibility keep legacy scholls going.   must somehow keep ideas alive   added.  film drew transcripts gestapo interrogations scholl trial preserved archive communist east germany secret police. discovery inspiration behind film rothemund  worked closely surviving relatives  including one scholl sisters  ensure historical accuracy film. scholl members white rose resistance group first started distributing anti-nazi leaflets summer 1942. arrested dropped leaflets munich university calling  day reckoning  adolf hitler regime. film focuses six days scholl arrest intense trial saw scholl initially deny charges ended defiant appearance. one three german films vying top prize festival.  south african film version bizet tragic opera carmen shot cape town xhosa language also premiered berlin festival. film entitled u-carmen ekhayelitsha carmen khayelitsha township story set. performed 40-strong music theatre troupe debut film performance. film first south african feature 25 years second nominated golden bear award.\n"
          ],
          "name": "stdout"
        }
      ]
    },
    {
      "cell_type": "markdown",
      "metadata": {
        "id": "H0n-38f7Rj2z"
      },
      "source": [
        "Lets Create our RNN Model"
      ]
    },
    {
      "cell_type": "code",
      "metadata": {
        "id": "oHgHiCf3hG8C",
        "colab": {
          "base_uri": "https://localhost:8080/"
        },
        "outputId": "d3a9b33c-a851-41fc-822c-c0084ac77922"
      },
      "source": [
        "model = tf.keras.Sequential([\n",
        "    # Add an Embedding layer expecting input vocab of size 5000, and output embedding dimension of size 64 we set at the top\n",
        "    tf.keras.layers.Embedding(vocab_size, embedding_dim),\n",
        "    tf.keras.layers.Bidirectional(tf.keras.layers.LSTM(embedding_dim)),\n",
        "    # use ReLU in place of tanh function since they are very good alternatives of each other.\n",
        "    tf.keras.layers.Dense(embedding_dim, activation='relu'),\n",
        "    # Add a Dense layer with 6 units and softmax activation.\n",
        "    # When we have multiple outputs, softmax convert outputs layers into a probability distribution.\n",
        "    tf.keras.layers.Dense(6, activation='softmax')\n",
        "])\n",
        "model.summary()"
      ],
      "execution_count": null,
      "outputs": [
        {
          "output_type": "stream",
          "text": [
            "Model: \"sequential\"\n",
            "_________________________________________________________________\n",
            "Layer (type)                 Output Shape              Param #   \n",
            "=================================================================\n",
            "embedding (Embedding)        (None, None, 64)          320000    \n",
            "_________________________________________________________________\n",
            "bidirectional (Bidirectional (None, 128)               66048     \n",
            "_________________________________________________________________\n",
            "dense (Dense)                (None, 64)                8256      \n",
            "_________________________________________________________________\n",
            "dense_1 (Dense)              (None, 6)                 390       \n",
            "=================================================================\n",
            "Total params: 394,694\n",
            "Trainable params: 394,694\n",
            "Non-trainable params: 0\n",
            "_________________________________________________________________\n"
          ],
          "name": "stdout"
        }
      ]
    },
    {
      "cell_type": "code",
      "metadata": {
        "id": "2xyWZCrYhLp_",
        "colab": {
          "base_uri": "https://localhost:8080/"
        },
        "outputId": "386e7beb-8ce4-4898-b429-07726bdc03b9"
      },
      "source": [
        "print(set(labels))"
      ],
      "execution_count": null,
      "outputs": [
        {
          "output_type": "stream",
          "text": [
            "{'entertainment', 'tech', 'business', 'politics', 'sport'}\n"
          ],
          "name": "stdout"
        }
      ]
    },
    {
      "cell_type": "code",
      "metadata": {
        "id": "o3c8f0K-hN2I"
      },
      "source": [
        "model.compile(loss='sparse_categorical_crossentropy', optimizer='adam', metrics=['accuracy'])"
      ],
      "execution_count": null,
      "outputs": []
    },
    {
      "cell_type": "code",
      "metadata": {
        "id": "nTvvA2cJSeqE",
        "colab": {
          "base_uri": "https://localhost:8080/"
        },
        "outputId": "55bc4ac7-4cf5-462e-cc0b-c1526b00418d"
      },
      "source": [
        "num_epochs = 50\n",
        "history = model.fit(train_padded, training_label_seq, epochs=num_epochs, validation_data=(validation_padded, validation_label_seq), verbose=2)"
      ],
      "execution_count": null,
      "outputs": [
        {
          "output_type": "stream",
          "text": [
            "Epoch 1/50\n",
            "56/56 - 10s - loss: 1.5163 - accuracy: 0.3792 - val_loss: 1.1003 - val_accuracy: 0.5640\n",
            "Epoch 2/50\n",
            "56/56 - 1s - loss: 0.7752 - accuracy: 0.6893 - val_loss: 0.6476 - val_accuracy: 0.7461\n",
            "Epoch 3/50\n",
            "56/56 - 1s - loss: 0.4189 - accuracy: 0.8483 - val_loss: 0.4206 - val_accuracy: 0.8539\n",
            "Epoch 4/50\n",
            "56/56 - 1s - loss: 0.2948 - accuracy: 0.9230 - val_loss: 0.3555 - val_accuracy: 0.8787\n",
            "Epoch 5/50\n",
            "56/56 - 1s - loss: 0.0720 - accuracy: 0.9865 - val_loss: 0.2779 - val_accuracy: 0.9079\n",
            "Epoch 6/50\n",
            "56/56 - 1s - loss: 0.0184 - accuracy: 0.9983 - val_loss: 0.2922 - val_accuracy: 0.9124\n",
            "Epoch 7/50\n",
            "56/56 - 1s - loss: 0.0060 - accuracy: 0.9994 - val_loss: 0.3223 - val_accuracy: 0.9191\n",
            "Epoch 8/50\n",
            "56/56 - 1s - loss: 0.0034 - accuracy: 1.0000 - val_loss: 0.2917 - val_accuracy: 0.9393\n",
            "Epoch 9/50\n",
            "56/56 - 1s - loss: 0.0018 - accuracy: 1.0000 - val_loss: 0.3033 - val_accuracy: 0.9371\n",
            "Epoch 10/50\n",
            "56/56 - 1s - loss: 0.0013 - accuracy: 1.0000 - val_loss: 0.3056 - val_accuracy: 0.9371\n",
            "Epoch 11/50\n",
            "56/56 - 1s - loss: 0.0010 - accuracy: 1.0000 - val_loss: 0.3277 - val_accuracy: 0.9371\n",
            "Epoch 12/50\n",
            "56/56 - 1s - loss: 8.1959e-04 - accuracy: 1.0000 - val_loss: 0.3191 - val_accuracy: 0.9416\n",
            "Epoch 13/50\n",
            "56/56 - 1s - loss: 6.4523e-04 - accuracy: 1.0000 - val_loss: 0.3375 - val_accuracy: 0.9393\n",
            "Epoch 14/50\n",
            "56/56 - 1s - loss: 5.3246e-04 - accuracy: 1.0000 - val_loss: 0.3453 - val_accuracy: 0.9393\n",
            "Epoch 15/50\n",
            "56/56 - 1s - loss: 4.5638e-04 - accuracy: 1.0000 - val_loss: 0.3509 - val_accuracy: 0.9371\n",
            "Epoch 16/50\n",
            "56/56 - 1s - loss: 3.8883e-04 - accuracy: 1.0000 - val_loss: 0.3545 - val_accuracy: 0.9393\n",
            "Epoch 17/50\n",
            "56/56 - 1s - loss: 3.3891e-04 - accuracy: 1.0000 - val_loss: 0.3622 - val_accuracy: 0.9371\n",
            "Epoch 18/50\n",
            "56/56 - 1s - loss: 2.9335e-04 - accuracy: 1.0000 - val_loss: 0.3614 - val_accuracy: 0.9393\n",
            "Epoch 19/50\n",
            "56/56 - 1s - loss: 2.6290e-04 - accuracy: 1.0000 - val_loss: 0.3669 - val_accuracy: 0.9393\n",
            "Epoch 20/50\n",
            "56/56 - 1s - loss: 2.3068e-04 - accuracy: 1.0000 - val_loss: 0.3833 - val_accuracy: 0.9326\n",
            "Epoch 21/50\n",
            "56/56 - 1s - loss: 2.0874e-04 - accuracy: 1.0000 - val_loss: 0.3762 - val_accuracy: 0.9393\n",
            "Epoch 22/50\n",
            "56/56 - 1s - loss: 1.9661e-04 - accuracy: 1.0000 - val_loss: 0.3879 - val_accuracy: 0.9348\n",
            "Epoch 23/50\n",
            "56/56 - 1s - loss: 1.9299e-04 - accuracy: 1.0000 - val_loss: 0.3765 - val_accuracy: 0.9348\n",
            "Epoch 24/50\n",
            "56/56 - 1s - loss: 1.5482e-04 - accuracy: 1.0000 - val_loss: 0.3856 - val_accuracy: 0.9371\n",
            "Epoch 25/50\n",
            "56/56 - 1s - loss: 1.3913e-04 - accuracy: 1.0000 - val_loss: 0.4069 - val_accuracy: 0.9348\n",
            "Epoch 26/50\n",
            "56/56 - 1s - loss: 1.2665e-04 - accuracy: 1.0000 - val_loss: 0.4120 - val_accuracy: 0.9348\n",
            "Epoch 27/50\n",
            "56/56 - 1s - loss: 1.1546e-04 - accuracy: 1.0000 - val_loss: 0.4184 - val_accuracy: 0.9326\n",
            "Epoch 28/50\n",
            "56/56 - 1s - loss: 1.0600e-04 - accuracy: 1.0000 - val_loss: 0.4260 - val_accuracy: 0.9326\n",
            "Epoch 29/50\n",
            "56/56 - 1s - loss: 9.7285e-05 - accuracy: 1.0000 - val_loss: 0.4298 - val_accuracy: 0.9326\n",
            "Epoch 30/50\n",
            "56/56 - 1s - loss: 8.9491e-05 - accuracy: 1.0000 - val_loss: 0.4362 - val_accuracy: 0.9326\n",
            "Epoch 31/50\n",
            "56/56 - 1s - loss: 8.2972e-05 - accuracy: 1.0000 - val_loss: 0.4397 - val_accuracy: 0.9326\n",
            "Epoch 32/50\n",
            "56/56 - 1s - loss: 7.6481e-05 - accuracy: 1.0000 - val_loss: 0.4434 - val_accuracy: 0.9348\n",
            "Epoch 33/50\n",
            "56/56 - 1s - loss: 1.8700e-04 - accuracy: 1.0000 - val_loss: 0.4325 - val_accuracy: 0.9348\n",
            "Epoch 34/50\n",
            "56/56 - 1s - loss: 9.9017e-05 - accuracy: 1.0000 - val_loss: 0.4373 - val_accuracy: 0.9326\n",
            "Epoch 35/50\n",
            "56/56 - 1s - loss: 8.1970e-05 - accuracy: 1.0000 - val_loss: 0.4484 - val_accuracy: 0.9326\n",
            "Epoch 36/50\n",
            "56/56 - 1s - loss: 7.1490e-05 - accuracy: 1.0000 - val_loss: 0.4567 - val_accuracy: 0.9303\n",
            "Epoch 37/50\n",
            "56/56 - 1s - loss: 6.3818e-05 - accuracy: 1.0000 - val_loss: 0.4633 - val_accuracy: 0.9326\n",
            "Epoch 38/50\n",
            "56/56 - 1s - loss: 5.7743e-05 - accuracy: 1.0000 - val_loss: 0.4674 - val_accuracy: 0.9326\n",
            "Epoch 39/50\n",
            "56/56 - 1s - loss: 5.3063e-05 - accuracy: 1.0000 - val_loss: 0.4738 - val_accuracy: 0.9326\n",
            "Epoch 40/50\n",
            "56/56 - 1s - loss: 4.8252e-05 - accuracy: 1.0000 - val_loss: 0.4763 - val_accuracy: 0.9326\n",
            "Epoch 41/50\n",
            "56/56 - 1s - loss: 4.4867e-05 - accuracy: 1.0000 - val_loss: 0.4813 - val_accuracy: 0.9326\n",
            "Epoch 42/50\n",
            "56/56 - 1s - loss: 4.0958e-05 - accuracy: 1.0000 - val_loss: 0.4864 - val_accuracy: 0.9303\n",
            "Epoch 43/50\n",
            "56/56 - 1s - loss: 3.7982e-05 - accuracy: 1.0000 - val_loss: 0.4921 - val_accuracy: 0.9303\n",
            "Epoch 44/50\n",
            "56/56 - 1s - loss: 3.5377e-05 - accuracy: 1.0000 - val_loss: 0.4941 - val_accuracy: 0.9303\n",
            "Epoch 45/50\n",
            "56/56 - 1s - loss: 3.3036e-05 - accuracy: 1.0000 - val_loss: 0.5018 - val_accuracy: 0.9303\n",
            "Epoch 46/50\n",
            "56/56 - 1s - loss: 3.1015e-05 - accuracy: 1.0000 - val_loss: 0.5025 - val_accuracy: 0.9303\n",
            "Epoch 47/50\n",
            "56/56 - 1s - loss: 2.9181e-05 - accuracy: 1.0000 - val_loss: 0.5055 - val_accuracy: 0.9303\n",
            "Epoch 48/50\n",
            "56/56 - 1s - loss: 2.7600e-05 - accuracy: 1.0000 - val_loss: 0.5088 - val_accuracy: 0.9303\n",
            "Epoch 49/50\n",
            "56/56 - 1s - loss: 2.5738e-05 - accuracy: 1.0000 - val_loss: 0.5149 - val_accuracy: 0.9326\n",
            "Epoch 50/50\n",
            "56/56 - 1s - loss: 2.4629e-05 - accuracy: 1.0000 - val_loss: 0.5173 - val_accuracy: 0.9348\n"
          ],
          "name": "stdout"
        }
      ]
    },
    {
      "cell_type": "code",
      "metadata": {
        "id": "sZHeW1MyhQhP",
        "colab": {
          "base_uri": "https://localhost:8080/",
          "height": 541
        },
        "outputId": "7c163539-147a-4d73-d355-bcc44bc81b1c"
      },
      "source": [
        "import matplotlib.pyplot as plt\n",
        "def plot_graphs(history, string):\n",
        "  plt.plot(history.history[string])\n",
        "  plt.plot(history.history['val_'+string])\n",
        "  plt.xlabel(\"Epochs\")\n",
        "  plt.ylabel(string)\n",
        "  plt.legend([string, 'val_'+string])\n",
        "  plt.show()\n",
        "  \n",
        "plot_graphs(history, \"accuracy\")\n",
        "plot_graphs(history, \"loss\")"
      ],
      "execution_count": null,
      "outputs": [
        {
          "output_type": "display_data",
          "data": {
            "image/png": "[encoded data removed]",
            "text/plain": [
              "<Figure size 432x288 with 1 Axes>"
            ]
          },
          "metadata": {
            "tags": [],
            "needs_background": "light"
          }
        },
        {
          "output_type": "display_data",
          "data": {
            "image/png": "[encoded data removed]",
            "text/plain": [
              "<Figure size 432x288 with 1 Axes>"
            ]
          },
          "metadata": {
            "tags": [],
            "needs_background": "light"
          }
        }
      ]
    },
    {
      "cell_type": "code",
      "metadata": {
        "id": "79i3ykjbhryr"
      },
      "source": [
        "yhat = model.predict(validation_padded)"
      ],
      "execution_count": null,
      "outputs": []
    },
    {
      "cell_type": "code",
      "metadata": {
        "id": "sJkeZs93TkBF",
        "colab": {
          "base_uri": "https://localhost:8080/"
        },
        "outputId": "d15143e4-0c25-47d6-a9e6-5371138c456e"
      },
      "source": [
        "yhat"
      ],
      "execution_count": null,
      "outputs": [
        {
          "output_type": "execute_result",
          "data": {
            "text/plain": [
              "array([[4.2827633e-10, 1.3110468e-09, 1.1233536e-05, 1.3680808e-10,\n",
              "        4.7546986e-05, 9.9994123e-01],\n",
              "       [2.2967635e-07, 4.3855031e-04, 3.5267943e-04, 3.9617389e-05,\n",
              "        9.9908447e-01, 8.4464882e-05],\n",
              "       [4.0352974e-10, 1.2987164e-07, 2.6894033e-06, 9.9998927e-01,\n",
              "        7.8214880e-06, 8.0387389e-13],\n",
              "       ...,\n",
              "       [2.9562092e-10, 5.6417904e-10, 1.7172630e-05, 9.9320226e-11,\n",
              "        2.0063613e-05, 9.9996281e-01],\n",
              "       [3.6069108e-07, 1.6974895e-05, 2.5756709e-02, 3.4629747e-02,\n",
              "        9.3958968e-01, 6.5167219e-06],\n",
              "       [1.7297420e-08, 9.9999511e-01, 1.5189176e-08, 4.5206795e-07,\n",
              "        4.4268686e-06, 3.8632610e-08]], dtype=float32)"
            ]
          },
          "metadata": {
            "tags": []
          },
          "execution_count": 28
        }
      ]
    },
    {
      "cell_type": "code",
      "metadata": {
        "id": "kTWNiEvzZdQL",
        "colab": {
          "base_uri": "https://localhost:8080/"
        },
        "outputId": "e177823b-28ea-40f4-cf8e-cbff2435c3fd"
      },
      "source": [
        "ypred = model.predict_classes(validation_padded)"
      ],
      "execution_count": null,
      "outputs": [
        {
          "output_type": "stream",
          "text": [
            "/usr/local/lib/python3.7/dist-packages/tensorflow/python/keras/engine/sequential.py:455: UserWarning: `model.predict_classes()` is deprecated and will be removed after 2021-01-01. Please use instead:* `np.argmax(model.predict(x), axis=-1)`,   if your model does multi-class classification   (e.g. if it uses a `softmax` last-layer activation).* `(model.predict(x) > 0.5).astype(\"int32\")`,   if your model does binary classification   (e.g. if it uses a `sigmoid` last-layer activation).\n",
            "  warnings.warn('`model.predict_classes()` is deprecated and '\n"
          ],
          "name": "stderr"
        }
      ]
    },
    {
      "cell_type": "code",
      "metadata": {
        "id": "mhc-MkgpZrkO",
        "colab": {
          "base_uri": "https://localhost:8080/"
        },
        "outputId": "5d2fe981-a655-40c9-fbb5-96c6a5e686af"
      },
      "source": [
        "ypred"
      ],
      "execution_count": null,
      "outputs": [
        {
          "output_type": "execute_result",
          "data": {
            "text/plain": [
              "array([5, 4, 3, 1, 1, 4, 2, 5, 3, 5, 3, 3, 5, 5, 1, 5, 5, 2, 1, 3, 4, 2,\n",
              "       1, 5, 4, 3, 3, 1, 1, 3, 2, 2, 2, 2, 5, 2, 3, 3, 4, 4, 5, 3, 5, 2,\n",
              "       3, 1, 1, 5, 4, 2, 4, 1, 2, 2, 3, 1, 1, 3, 2, 5, 5, 3, 2, 3, 3, 2,\n",
              "       4, 3, 3, 3, 3, 3, 5, 5, 4, 3, 1, 2, 1, 4, 5, 1, 1, 5, 4, 5, 4, 1,\n",
              "       4, 1, 1, 5, 5, 2, 5, 5, 3, 2, 1, 4, 4, 2, 2, 1, 5, 5, 1, 3, 5, 1,\n",
              "       1, 2, 3, 4, 4, 2, 2, 4, 3, 5, 1, 1, 3, 5, 4, 1, 5, 2, 3, 1, 3, 4,\n",
              "       5, 1, 3, 2, 5, 3, 5, 3, 1, 3, 2, 2, 3, 2, 4, 1, 2, 5, 2, 1, 1, 5,\n",
              "       4, 3, 4, 3, 3, 1, 1, 1, 2, 4, 5, 3, 1, 2, 1, 2, 4, 2, 2, 2, 2, 1,\n",
              "       1, 1, 2, 2, 5, 2, 2, 2, 1, 1, 1, 4, 2, 1, 1, 1, 2, 5, 4, 4, 4, 3,\n",
              "       2, 2, 4, 2, 4, 1, 1, 3, 3, 3, 1, 1, 3, 3, 4, 2, 1, 1, 1, 1, 2, 1,\n",
              "       2, 2, 2, 2, 1, 3, 1, 4, 4, 1, 4, 2, 5, 2, 1, 2, 4, 4, 3, 5, 2, 5,\n",
              "       2, 4, 3, 5, 3, 5, 5, 4, 2, 4, 4, 2, 2, 1, 5, 2, 3, 5, 2, 4, 1, 4,\n",
              "       3, 1, 3, 2, 3, 3, 2, 2, 2, 4, 3, 2, 3, 2, 5, 3, 1, 3, 3, 1, 5, 4,\n",
              "       4, 2, 4, 1, 2, 2, 5, 1, 4, 4, 4, 1, 5, 1, 3, 2, 3, 3, 5, 4, 2, 4,\n",
              "       1, 5, 5, 1, 2, 5, 4, 4, 1, 5, 2, 3, 2, 3, 4, 4, 2, 3, 2, 4, 3, 5,\n",
              "       5, 4, 2, 4, 5, 4, 4, 1, 3, 1, 1, 3, 5, 5, 2, 3, 3, 1, 2, 2, 4, 2,\n",
              "       4, 4, 1, 2, 3, 3, 2, 2, 1, 4, 1, 4, 5, 1, 1, 5, 2, 4, 1, 1, 3, 4,\n",
              "       2, 3, 1, 1, 3, 2, 4, 4, 2, 2, 1, 5, 5, 4, 2, 3, 4, 1, 1, 4, 4, 3,\n",
              "       2, 1, 5, 2, 1, 4, 4, 1, 2, 2, 2, 1, 1, 4, 4, 2, 4, 2, 2, 1, 2, 3,\n",
              "       2, 2, 5, 3, 4, 3, 2, 5, 3, 4, 5, 1, 3, 5, 4, 4, 2, 4, 5, 4, 1, 2,\n",
              "       2, 3, 5, 4, 1])"
            ]
          },
          "metadata": {
            "tags": []
          },
          "execution_count": 31
        }
      ]
    },
    {
      "cell_type": "code",
      "metadata": {
        "id": "3cY14ULmZsy8"
      },
      "source": [
        "validation_label_seq=validation_label_seq.flatten()"
      ],
      "execution_count": null,
      "outputs": []
    },
    {
      "cell_type": "code",
      "metadata": {
        "id": "Zw0dyEl6a124",
        "colab": {
          "base_uri": "https://localhost:8080/"
        },
        "outputId": "48a6f2cd-e0e3-42fe-9940-b6125929f198"
      },
      "source": [
        "validation_label_seq"
      ],
      "execution_count": null,
      "outputs": [
        {
          "output_type": "execute_result",
          "data": {
            "text/plain": [
              "array([5, 4, 3, 1, 1, 4, 2, 4, 5, 5, 3, 3, 2, 5, 1, 5, 5, 2, 1, 3, 4, 2,\n",
              "       1, 5, 4, 3, 3, 1, 1, 2, 2, 2, 2, 2, 5, 2, 3, 3, 4, 4, 5, 3, 5, 2,\n",
              "       3, 1, 1, 2, 4, 2, 4, 1, 2, 2, 3, 1, 1, 3, 3, 5, 5, 3, 2, 3, 3, 2,\n",
              "       4, 3, 3, 3, 3, 3, 5, 5, 4, 3, 1, 3, 1, 4, 1, 1, 1, 5, 4, 5, 4, 1,\n",
              "       4, 1, 1, 5, 5, 2, 5, 5, 3, 2, 1, 4, 4, 3, 2, 1, 2, 5, 1, 3, 5, 1,\n",
              "       1, 2, 3, 4, 4, 2, 2, 1, 3, 5, 1, 1, 3, 5, 4, 1, 5, 2, 3, 1, 3, 4,\n",
              "       5, 1, 3, 2, 5, 3, 5, 3, 1, 3, 2, 2, 3, 2, 4, 1, 2, 5, 2, 1, 1, 5,\n",
              "       4, 3, 4, 3, 3, 1, 1, 1, 2, 4, 5, 2, 1, 2, 1, 2, 4, 2, 2, 2, 2, 1,\n",
              "       1, 1, 2, 2, 5, 2, 2, 2, 1, 1, 1, 4, 2, 1, 1, 1, 2, 5, 4, 4, 4, 3,\n",
              "       2, 2, 4, 2, 4, 1, 1, 3, 3, 3, 1, 1, 3, 3, 4, 2, 1, 1, 1, 1, 2, 1,\n",
              "       2, 2, 2, 2, 1, 3, 1, 4, 4, 1, 4, 2, 5, 2, 1, 2, 4, 4, 3, 5, 2, 5,\n",
              "       2, 4, 3, 5, 3, 5, 5, 4, 2, 4, 4, 2, 3, 1, 5, 2, 3, 5, 2, 4, 1, 4,\n",
              "       3, 1, 3, 2, 3, 3, 2, 2, 2, 4, 3, 2, 3, 2, 5, 3, 1, 3, 3, 1, 5, 4,\n",
              "       4, 2, 4, 1, 2, 2, 3, 1, 4, 4, 4, 1, 5, 1, 3, 2, 3, 3, 5, 4, 2, 4,\n",
              "       1, 5, 5, 1, 2, 5, 4, 4, 1, 5, 2, 3, 3, 3, 4, 4, 2, 3, 2, 3, 3, 5,\n",
              "       1, 4, 2, 4, 5, 4, 4, 1, 3, 1, 1, 3, 5, 5, 2, 3, 3, 1, 2, 2, 4, 2,\n",
              "       4, 4, 1, 2, 3, 1, 2, 2, 1, 4, 1, 4, 5, 1, 1, 5, 2, 4, 1, 1, 3, 4,\n",
              "       2, 3, 1, 1, 3, 5, 4, 4, 4, 2, 1, 5, 5, 4, 2, 3, 4, 1, 1, 4, 4, 3,\n",
              "       2, 1, 5, 5, 1, 5, 4, 4, 2, 2, 2, 1, 1, 4, 1, 2, 4, 2, 2, 1, 2, 3,\n",
              "       2, 2, 4, 2, 4, 3, 4, 5, 3, 4, 5, 1, 3, 5, 2, 4, 2, 4, 5, 4, 1, 2,\n",
              "       2, 3, 5, 3, 1])"
            ]
          },
          "metadata": {
            "tags": []
          },
          "execution_count": 33
        }
      ]
    },
    {
      "cell_type": "code",
      "metadata": {
        "id": "pNM7RNb7ZydD",
        "colab": {
          "base_uri": "https://localhost:8080/"
        },
        "outputId": "3e67dbf4-6ad8-4c27-f60b-994bc21ccef3"
      },
      "source": [
        "ypred.shape"
      ],
      "execution_count": null,
      "outputs": [
        {
          "output_type": "execute_result",
          "data": {
            "text/plain": [
              "(445,)"
            ]
          },
          "metadata": {
            "tags": []
          },
          "execution_count": 34
        }
      ]
    },
    {
      "cell_type": "code",
      "metadata": {
        "id": "SmfczdG-Z9jn",
        "colab": {
          "base_uri": "https://localhost:8080/"
        },
        "outputId": "1d000d04-d26e-4b13-d3dd-e6b53ee07a54"
      },
      "source": [
        "validation_label_seq.shape"
      ],
      "execution_count": null,
      "outputs": [
        {
          "output_type": "execute_result",
          "data": {
            "text/plain": [
              "(445,)"
            ]
          },
          "metadata": {
            "tags": []
          },
          "execution_count": 35
        }
      ]
    },
    {
      "cell_type": "code",
      "metadata": {
        "id": "2SbpoXjIaDP_",
        "colab": {
          "base_uri": "https://localhost:8080/"
        },
        "outputId": "6a263764-7a9b-4c62-d940-517ee51695ac"
      },
      "source": [
        "from sklearn.metrics import confusion_matrix\n",
        "confusion_matrix(validation_label_seq, ypred)"
      ],
      "execution_count": null,
      "outputs": [
        {
          "output_type": "execute_result",
          "data": {
            "text/plain": [
              "array([[96,  0,  1,  2,  2],\n",
              "       [ 0, 99,  3,  1,  3],\n",
              "       [ 0,  5, 78,  2,  1],\n",
              "       [ 1,  2,  0, 81,  2],\n",
              "       [ 0,  2,  1,  1, 62]])"
            ]
          },
          "metadata": {
            "tags": []
          },
          "execution_count": 36
        }
      ]
    },
    {
      "cell_type": "code",
      "metadata": {
        "id": "lZRGLlNjaQ9D",
        "colab": {
          "base_uri": "https://localhost:8080/"
        },
        "outputId": "c342dcf9-5404-4500-8f97-2405b7d5636c"
      },
      "source": [
        "from sklearn.metrics import classification_report\n",
        "print(classification_report(validation_label_seq, ypred))"
      ],
      "execution_count": null,
      "outputs": [
        {
          "output_type": "stream",
          "text": [
            "              precision    recall  f1-score   support\n",
            "\n",
            "           1       0.99      0.97      0.98       101\n",
            "           2       0.88      0.95      0.91       106\n",
            "           3       0.93      0.94      0.94        86\n",
            "           4       0.98      0.93      0.95        86\n",
            "           5       0.98      0.92      0.95        66\n",
            "\n",
            "    accuracy                           0.95       445\n",
            "   macro avg       0.95      0.94      0.95       445\n",
            "weighted avg       0.95      0.95      0.95       445\n",
            "\n"
          ],
          "name": "stdout"
        }
      ]
    },
    {
      "cell_type": "code",
      "metadata": {
        "id": "LRNBtyr6aZ_L"
      },
      "source": [
        "#END"
      ],
      "execution_count": null,
      "outputs": []
    }
  ]
}